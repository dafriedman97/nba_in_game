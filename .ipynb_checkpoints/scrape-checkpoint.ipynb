{
 "cells": [
  {
   "cell_type": "code",
   "execution_count": 47,
   "id": "123d23dc-ac22-4377-9558-ec50edf98501",
   "metadata": {},
   "outputs": [],
   "source": [
    "import os \n",
    "import sys\n",
    "from pathlib import Path\n",
    "import argparse\n",
    "from bs4 import BeautifulSoup\n",
    "import json\n",
    "import requests\n",
    "import time\n",
    "from datetime import datetime\n",
    "import pandas as pd\n",
    "import numpy as np \n",
    "\n",
    "import seaborn as sns\n",
    "import matplotlib.pyplot as plt\n"
   ]
  },
  {
   "cell_type": "code",
   "execution_count": 48,
   "id": "17a881e6-f8b0-4d30-83a3-f1aa0a2e36c1",
   "metadata": {},
   "outputs": [],
   "source": [
    "url = \"https://sportsbook.draftkings.com/leagues/basketball/88670846\"\n",
    "page = requests.get(url)\n",
    "soup = BeautifulSoup(page.content, \"html.parser\")\n",
    "first_lines = soup.find_all(\"div\", class_=\"parlay-card-10-a\")[0]\n",
    "# # # soup2 =  BeautifulSoup(page.content, \"html.parser\")"
   ]
  },
  {
   "cell_type": "code",
   "execution_count": 49,
   "id": "cfbe98b2-359b-426f-a846-cdd036a0741f",
   "metadata": {},
   "outputs": [
    {
     "data": {
      "text/plain": [
       "[<span><span><span>Today</span> </span></span>,\n",
       " <span><span>Today</span> </span>,\n",
       " <span>Today</span>,\n",
       " <span>SPREAD</span>,\n",
       " <span>TOTAL</span>,\n",
       " <span>MONEYLINE</span>,\n",
       " <span aria-label=\"Icon indicating a live or in-progress event\" class=\"sportsbook__icon--live\"></span>,\n",
       " <span class=\"event-cell__time\">2:34</span>,\n",
       " <span class=\"event-cell__period\">4th Quarter</span>,\n",
       " <span class=\"event-cell__name\"><div class=\"event-cell__name-logo-wrapper\"><img alt=\"PHO Suns-logo\" class=\"event-cell__logo\" src=\"https://sportsbook.draftkings.com/static/logos/teams/nba/PHX.png\"/><div class=\"event-cell__name-text\">PHO Suns</div></div><span class=\"event-cell__score\">116</span></span>,\n",
       " <span class=\"event-cell__score\">116</span>,\n",
       " <span class=\"sportsbook-odds american no-margin default-color\">-6000</span>,\n",
       " <span aria-label=\"Icon indicating a live or in-progress event\" class=\"sportsbook__icon--live\"></span>,\n",
       " <span class=\"event-cell__time\">2:34</span>,\n",
       " <span class=\"event-cell__period\">4th Quarter</span>,\n",
       " <span class=\"event-cell__name\"><div class=\"event-cell__name-logo-wrapper\"><img alt=\"MIN Timberwolves-logo\" class=\"event-cell__logo\" src=\"https://sportsbook.draftkings.com/static/logos/teams/nba/MIN.png\"/><div class=\"event-cell__name-text\">MIN Timberwolves</div></div><span class=\"event-cell__score\">106</span></span>,\n",
       " <span class=\"event-cell__score\">106</span>,\n",
       " <span class=\"sportsbook-odds american no-margin default-color\">+1800</span>,\n",
       " <span aria-label=\"Icon indicating a live or in-progress event\" class=\"sportsbook__icon--live\"></span>,\n",
       " <span class=\"event-cell__time\">9:57</span>,\n",
       " <span class=\"event-cell__period\">4th Quarter</span>,\n",
       " <span class=\"event-cell__name\"><div class=\"event-cell__name-logo-wrapper\"><img alt=\"HOU Rockets-logo\" class=\"event-cell__logo\" src=\"https://sportsbook.draftkings.com/static/logos/teams/nba/HOU.png\"/><div class=\"event-cell__name-text\">HOU Rockets</div></div><span class=\"event-cell__score\">73</span></span>,\n",
       " <span class=\"event-cell__score\">73</span>,\n",
       " <span class=\"sportsbook-outcome-cell__line\">+15.5</span>,\n",
       " <span class=\"sportsbook-odds american default-color\">-120</span>,\n",
       " <span class=\"sportsbook-outcome-cell__label\">O</span>,\n",
       " <span> </span>,\n",
       " <span class=\"sportsbook-outcome-cell__line\">206.5</span>,\n",
       " <span class=\"sportsbook-odds american default-color\">-110</span>,\n",
       " <span class=\"sportsbook-odds american no-margin default-color\">+1500</span>,\n",
       " <span aria-label=\"Icon indicating a live or in-progress event\" class=\"sportsbook__icon--live\"></span>,\n",
       " <span class=\"event-cell__time\">9:57</span>,\n",
       " <span class=\"event-cell__period\">4th Quarter</span>,\n",
       " <span class=\"event-cell__name\"><div class=\"event-cell__name-logo-wrapper\"><img alt=\"DAL Mavericks-logo\" class=\"event-cell__logo\" src=\"https://sportsbook.draftkings.com/static/logos/teams/nba/DAL.png\"/><div class=\"event-cell__name-text\">DAL Mavericks</div></div><span class=\"event-cell__score\">88</span></span>,\n",
       " <span class=\"event-cell__score\">88</span>,\n",
       " <span class=\"sportsbook-outcome-cell__line\">-15.5</span>,\n",
       " <span class=\"sportsbook-odds american default-color\">-110</span>,\n",
       " <span class=\"sportsbook-outcome-cell__label\">U</span>,\n",
       " <span> </span>,\n",
       " <span class=\"sportsbook-outcome-cell__line\">206.5</span>,\n",
       " <span class=\"sportsbook-odds american default-color\">-120</span>,\n",
       " <span class=\"sportsbook-odds american no-margin default-color\">-4500</span>,\n",
       " <span aria-label=\"Icon indicating a live or in-progress event\" class=\"sportsbook__icon--live\"></span>,\n",
       " <span class=\"event-cell__time\">4:05</span>,\n",
       " <span class=\"event-cell__period\">1st Quarter</span>,\n",
       " <span class=\"event-cell__name\"><div class=\"event-cell__name-logo-wrapper\"><img alt=\"SA Spurs-logo\" class=\"event-cell__logo\" src=\"https://sportsbook.draftkings.com/static/logos/teams/nba/SAS.png\"/><div class=\"event-cell__name-text\">SA Spurs</div></div><span class=\"event-cell__score\">25</span></span>,\n",
       " <span class=\"event-cell__score\">25</span>,\n",
       " <span class=\"sportsbook-outcome-cell__line\">-15.5</span>,\n",
       " <span class=\"sportsbook-odds american default-color\">-110</span>,\n",
       " <span class=\"sportsbook-outcome-cell__label\">O</span>,\n",
       " <span> </span>,\n",
       " <span class=\"sportsbook-outcome-cell__line\">230.5</span>,\n",
       " <span class=\"sportsbook-odds american default-color\">-115</span>,\n",
       " <span class=\"sportsbook-odds american no-margin default-color\">-1150</span>,\n",
       " <span aria-label=\"Icon indicating a live or in-progress event\" class=\"sportsbook__icon--live\"></span>,\n",
       " <span class=\"event-cell__time\">4:05</span>,\n",
       " <span class=\"event-cell__period\">1st Quarter</span>,\n",
       " <span class=\"event-cell__name\"><div class=\"event-cell__name-logo-wrapper\"><img alt=\"POR Trail Blazers-logo\" class=\"event-cell__logo\" src=\"https://sportsbook.draftkings.com/static/logos/teams/nba/POR.png\"/><div class=\"event-cell__name-text\">POR Trail Blazers</div></div><span class=\"event-cell__score\">13</span></span>,\n",
       " <span class=\"event-cell__score\">13</span>,\n",
       " <span class=\"sportsbook-outcome-cell__line\">+15.5</span>,\n",
       " <span class=\"sportsbook-odds american default-color\">-120</span>,\n",
       " <span class=\"sportsbook-outcome-cell__label\">U</span>,\n",
       " <span> </span>,\n",
       " <span class=\"sportsbook-outcome-cell__line\">230.5</span>,\n",
       " <span class=\"sportsbook-odds american default-color\">-115</span>,\n",
       " <span class=\"sportsbook-odds american no-margin default-color\">+650</span>,\n",
       " <span aria-label=\"Icon indicating a live or in-progress event\" class=\"sportsbook__icon--live\"></span>,\n",
       " <span class=\"event-cell__time\">7:23</span>,\n",
       " <span class=\"event-cell__period\">1st Quarter</span>,\n",
       " <span class=\"event-cell__name\"><div class=\"event-cell__name-logo-wrapper\"><img alt=\"PHI 76ers-logo\" class=\"event-cell__logo\" src=\"https://sportsbook.draftkings.com/static/logos/teams/nba/PHI.png\"/><div class=\"event-cell__name-text\">PHI 76ers</div></div><span class=\"event-cell__score\">6</span></span>,\n",
       " <span class=\"event-cell__score\">6</span>,\n",
       " <span class=\"sportsbook-outcome-cell__line\">-8.5</span>,\n",
       " <span class=\"sportsbook-odds american default-color\">-115</span>,\n",
       " <span class=\"sportsbook-outcome-cell__label\">O</span>,\n",
       " <span> </span>,\n",
       " <span class=\"sportsbook-outcome-cell__line\">220.5</span>,\n",
       " <span class=\"sportsbook-odds american default-color\">-110</span>,\n",
       " <span class=\"sportsbook-odds american no-margin default-color\">-435</span>,\n",
       " <span aria-label=\"Icon indicating a live or in-progress event\" class=\"sportsbook__icon--live\"></span>,\n",
       " <span class=\"event-cell__time\">7:23</span>,\n",
       " <span class=\"event-cell__period\">1st Quarter</span>,\n",
       " <span class=\"event-cell__name\"><div class=\"event-cell__name-logo-wrapper\"><img alt=\"LA Lakers-logo\" class=\"event-cell__logo\" src=\"https://sportsbook.draftkings.com/static/logos/teams/nba/LAL.png\"/><div class=\"event-cell__name-text\">LA Lakers</div></div><span class=\"event-cell__score\">9</span></span>,\n",
       " <span class=\"event-cell__score\">9</span>,\n",
       " <span class=\"sportsbook-outcome-cell__line\">+8.5</span>,\n",
       " <span class=\"sportsbook-odds american default-color\">-115</span>,\n",
       " <span class=\"sportsbook-outcome-cell__label\">U</span>,\n",
       " <span> </span>,\n",
       " <span class=\"sportsbook-outcome-cell__line\">220.5</span>,\n",
       " <span class=\"sportsbook-odds american default-color\">-120</span>,\n",
       " <span class=\"sportsbook-odds american no-margin default-color\">+300</span>,\n",
       " <span class=\"event-cell__start-time\">11:30PM</span>,\n",
       " <span class=\"event-cell__name\"><div class=\"event-cell__name-logo-wrapper\"><img alt=\"CLE Cavaliers-logo\" class=\"event-cell__logo\" src=\"https://sportsbook.draftkings.com/static/logos/teams/nba/CLE.png\"/><div class=\"event-cell__name-text\">CLE Cavaliers</div></div></span>,\n",
       " <span class=\"sportsbook-outcome-cell__line\">+3.5</span>,\n",
       " <span class=\"sportsbook-odds american default-color\">-110</span>,\n",
       " <span class=\"sportsbook-odds american no-margin default-color\">+140</span>,\n",
       " <span class=\"event-cell__start-time\">11:30PM</span>,\n",
       " <span class=\"event-cell__name\"><div class=\"event-cell__name-logo-wrapper\"><img alt=\"TOR Raptors-logo\" class=\"event-cell__logo\" src=\"https://sportsbook.draftkings.com/static/logos/teams/nba/TOR.png\"/><div class=\"event-cell__name-text\">TOR Raptors</div></div></span>,\n",
       " <span class=\"sportsbook-outcome-cell__line\">-3.5</span>,\n",
       " <span class=\"sportsbook-odds american default-color\">-110</span>,\n",
       " <span class=\"sportsbook-odds american no-margin default-color\">-160</span>]"
      ]
     },
     "execution_count": 49,
     "metadata": {},
     "output_type": "execute_result"
    }
   ],
   "source": [
    "# TODO: look for the tag when it's like MON JAN 10 instead of TODAY or TOMORROW\n",
    "soup.find_all(\"div\", class_=\"pamrlay-card-10-a\")[0].find_all(\"span\")"
   ]
  },
  {
   "cell_type": "code",
   "execution_count": 134,
   "id": "e17c985a-ca7c-49c9-a3fe-25571aa2c93d",
   "metadata": {},
   "outputs": [
    {
     "name": "stdout",
     "output_type": "stream",
     "text": [
      "today lines\n"
     ]
    }
   ],
   "source": [
    "# page = requests.get(url)\n",
    "# soup = BeautifulSoup(page.content, \"html.parser\")\n",
    "lines_by_day = soup.find_all(\"div\", class_=\"parlay-card-10-a\")\n",
    "if len(lines_by_day[0].find_all(\"span\", text=\"Today\")) > 0: # we have lines left for today\n",
    "    print(\"today lines\")\n",
    "    todays_lines = lines_by_day[0]\n",
    "else: # no more lines for today (or potentially it's past midnight and the lines are listed as yesterday's) \n",
    "    hour = datetime.now().hour\n",
    "    if hour < 3 and len(lines_by_day) > 1: # past midnight and we have two sections of lines\n",
    "        # TODO: should replace <len(lines_by_day)> with some search for a tag that the first section is a date (representing the day that just finished)\n",
    "        todays_lines = lines_by_day[0]\n",
    "    else:\n",
    "        print(\"no more lines\")\n",
    "        pass\n",
    "    "
   ]
  },
  {
   "cell_type": "code",
   "execution_count": 135,
   "id": "91cc68d1-9d21-4ac1-be9b-9aa4c5ca0921",
   "metadata": {},
   "outputs": [],
   "source": [
    "lines = pd.concat([pd.read_csv(\"data/lines/\" + file) for file in os.listdir(\"data/lines\") if file.endswith(\".csv\")])"
   ]
  },
  {
   "cell_type": "code",
   "execution_count": 136,
   "id": "88aa2d5f-d399-48b7-8e6c-7c9d8b73051f",
   "metadata": {},
   "outputs": [],
   "source": [
    "lines = lines.sort_values(['home', 'vis', 'home_score', 'vis_score']).dropna()"
   ]
  },
  {
   "cell_type": "code",
   "execution_count": 139,
   "id": "a6d4da95-a4aa-4973-adda-f5bb69ca6a6d",
   "metadata": {},
   "outputs": [
    {
     "data": {
      "text/html": [
       "<div>\n",
       "<style scoped>\n",
       "    .dataframe tbody tr th:only-of-type {\n",
       "        vertical-align: middle;\n",
       "    }\n",
       "\n",
       "    .dataframe tbody tr th {\n",
       "        vertical-align: top;\n",
       "    }\n",
       "\n",
       "    .dataframe thead th {\n",
       "        text-align: right;\n",
       "    }\n",
       "</style>\n",
       "<table border=\"1\" class=\"dataframe\">\n",
       "  <thead>\n",
       "    <tr style=\"text-align: right;\">\n",
       "      <th></th>\n",
       "      <th>home</th>\n",
       "      <th>vis</th>\n",
       "      <th>home_score</th>\n",
       "      <th>vis_score</th>\n",
       "      <th>quarter</th>\n",
       "      <th>time</th>\n",
       "      <th>home_mline</th>\n",
       "      <th>vis_mline</th>\n",
       "      <th>date</th>\n",
       "    </tr>\n",
       "  </thead>\n",
       "  <tbody>\n",
       "    <tr>\n",
       "      <th>36</th>\n",
       "      <td>DET</td>\n",
       "      <td>ATL</td>\n",
       "      <td>113.0</td>\n",
       "      <td>107.0</td>\n",
       "      <td>O</td>\n",
       "      <td>0:53</td>\n",
       "      <td>-120.0</td>\n",
       "      <td>-110.0</td>\n",
       "      <td>2022-03-07</td>\n",
       "    </tr>\n",
       "    <tr>\n",
       "      <th>37</th>\n",
       "      <td>DET</td>\n",
       "      <td>ATL</td>\n",
       "      <td>113.0</td>\n",
       "      <td>110.0</td>\n",
       "      <td>O</td>\n",
       "      <td>0:40</td>\n",
       "      <td>-120.0</td>\n",
       "      <td>-110.0</td>\n",
       "      <td>2022-03-07</td>\n",
       "    </tr>\n",
       "    <tr>\n",
       "      <th>38</th>\n",
       "      <td>DET</td>\n",
       "      <td>ATL</td>\n",
       "      <td>113.0</td>\n",
       "      <td>110.0</td>\n",
       "      <td>O</td>\n",
       "      <td>0:11</td>\n",
       "      <td>-120.0</td>\n",
       "      <td>-110.0</td>\n",
       "      <td>2022-03-07</td>\n",
       "    </tr>\n",
       "    <tr>\n",
       "      <th>39</th>\n",
       "      <td>DET</td>\n",
       "      <td>ATL</td>\n",
       "      <td>113.0</td>\n",
       "      <td>110.0</td>\n",
       "      <td>O</td>\n",
       "      <td>0:20</td>\n",
       "      <td>-120.0</td>\n",
       "      <td>-110.0</td>\n",
       "      <td>2022-03-07</td>\n",
       "    </tr>\n",
       "    <tr>\n",
       "      <th>40</th>\n",
       "      <td>DET</td>\n",
       "      <td>ATL</td>\n",
       "      <td>113.0</td>\n",
       "      <td>110.0</td>\n",
       "      <td>O</td>\n",
       "      <td>0:17</td>\n",
       "      <td>-120.0</td>\n",
       "      <td>-110.0</td>\n",
       "      <td>2022-03-07</td>\n",
       "    </tr>\n",
       "  </tbody>\n",
       "</table>\n",
       "</div>"
      ],
      "text/plain": [
       "   home  vis  home_score  vis_score quarter  time  home_mline  vis_mline  \\\n",
       "36  DET  ATL       113.0      107.0       O  0:53      -120.0     -110.0   \n",
       "37  DET  ATL       113.0      110.0       O  0:40      -120.0     -110.0   \n",
       "38  DET  ATL       113.0      110.0       O  0:11      -120.0     -110.0   \n",
       "39  DET  ATL       113.0      110.0       O  0:20      -120.0     -110.0   \n",
       "40  DET  ATL       113.0      110.0       O  0:17      -120.0     -110.0   \n",
       "\n",
       "          date  \n",
       "36  2022-03-07  \n",
       "37  2022-03-07  \n",
       "38  2022-03-07  \n",
       "39  2022-03-07  \n",
       "40  2022-03-07  "
      ]
     },
     "execution_count": 139,
     "metadata": {},
     "output_type": "execute_result"
    }
   ],
   "source": [
    "game_lines = lines.loc[(lines['home'] == \"DET\") & (lines['vis'] == \"ATL\")].copy(deep=True).reset_index(drop=True)\n",
    "game_lines.tail()"
   ]
  },
  {
   "cell_type": "code",
   "execution_count": 105,
   "id": "a9a93145-d6e6-4b9e-af7b-f3fdb5abbfdd",
   "metadata": {},
   "outputs": [],
   "source": [
    "def get_implied_prob(line):\n",
    "    if line >= 100:\n",
    "        return 100/(100+line)\n",
    "    else:\n",
    "        return (-line)/(100-line)"
   ]
  },
  {
   "cell_type": "code",
   "execution_count": 127,
   "id": "f157fbe8-3a08-4a1b-8ea3-aef768cdce35",
   "metadata": {},
   "outputs": [
    {
     "data": {
      "image/png": "[encoded data removed]",
      "text/plain": [
       "<Figure size 864x504 with 2 Axes>"
      ]
     },
     "metadata": {
      "needs_background": "light"
     },
     "output_type": "display_data"
    }
   ],
   "source": [
    "fig, ax = plt.subplots(figsize=(12, 7))\n",
    "ax2 = ax.twinx()\n",
    "game_lines['prob'] = game_lines['home_mline'].apply(get_implied_prob)\n",
    "# sns.lineplot(x=game_lines.index, y=game_lines.home_mline, ax=ax)\n",
    "sns.lineplot(x=game_lines.index, y=game_lines.prob, color='g', ax=ax2)\n",
    "sns.lineplot(x=game_lines.index, y=0.5, color='gray', ax=ax2)\n",
    "sns.despine()"
   ]
  }
 ],
 "metadata": {
  "kernelspec": {
   "display_name": "Python 3 (ipykernel)",
   "language": "python",
   "name": "python3"
  },
  "language_info": {
   "codemirror_mode": {
    "name": "ipython",
    "version": 3
   },
   "file_extension": ".py",
   "mimetype": "text/x-python",
   "name": "python",
   "nbconvert_exporter": "python",
   "pygments_lexer": "ipython3",
   "version": "3.9.7"
  }
 },
 "nbformat": 4,
 "nbformat_minor": 5
}
