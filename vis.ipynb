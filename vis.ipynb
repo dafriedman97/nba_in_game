{
 "cells": [
  {
   "cell_type": "code",
   "execution_count": 1,
   "id": "a491a6f8-818e-4206-a360-c0b70594327d",
   "metadata": {},
   "outputs": [],
   "source": [
    "import pandas as pd\n",
    "import os\n",
    "import sys\n",
    "from collections import defaultdict\n",
    "from pathlib import Path\n",
    "import numpy as np\n",
    "import pickle\n",
    "import json\n",
    "import ipdb\n",
    "import importlib\n",
    "import matplotlib.pyplot as plt\n",
    "import seaborn as sns\n",
    "import plotly.express as px\n",
    "import plotly.graph_objects as go\n",
    "import plotly.io as pio\n",
    "from tensorflow import keras\n",
    "\n",
    "hoops_dir = Path(\"/Users/danielfriedman/Desktop/hoops\")\n",
    "data_dir = hoops_dir / \"data\"\n",
    "lines_dir = data_dir / \"lines\"\n",
    "\n",
    "pd.set_option(\"display.max_columns\", 100)\n",
    "pd.set_option(\"display.max_rows\", 30)\n"
   ]
  },
  {
   "cell_type": "code",
   "execution_count": 2,
   "id": "6b5e32e5-11ca-4f5b-86f2-10848dc9c25f",
   "metadata": {},
   "outputs": [],
   "source": [
    "def american_lines_to_implied_prob(line):\n",
    "    if line > 0:\n",
    "        return 100/(100+line)\n",
    "    else:\n",
    "        return -line/(100-line)\n"
   ]
  },
  {
   "cell_type": "code",
   "execution_count": 3,
   "id": "b329d294-e14c-4efb-bfbf-58fd4a63c0d5",
   "metadata": {},
   "outputs": [],
   "source": [
    "eval_season = \"2021-22\"\n",
    "sbs = pd.read_csv(data_dir / \"score_by_score\" / (eval_season + \".csv\"))\n",
    "playstats = pd.read_csv(data_dir / \"playstats\" / (eval_season + \".csv\"))\n",
    "rankings = pd.read_csv(data_dir / \"rankings\" / (eval_season + \".csv\"))\n"
   ]
  },
  {
   "cell_type": "code",
   "execution_count": 4,
   "id": "7500c33e-a39c-4d61-9310-09e79e435d33",
   "metadata": {},
   "outputs": [
    {
     "name": "stderr",
     "output_type": "stream",
     "text": [
      "2022-04-27 22:15:28.001333: I tensorflow/core/platform/cpu_feature_guard.cc:142] This TensorFlow binary is optimized with oneAPI Deep Neural Network Library (oneDNN) to use the following CPU instructions in performance-critical operations:  SSE4.1 SSE4.2\n",
      "To enable them in other operations, rebuild TensorFlow with the appropriate compiler flags.\n"
     ]
    }
   ],
   "source": [
    "model = keras.models.load_model(hoops_dir / \"model/models/16_32_8|2|3|2.5e-06|home_lead_time_left_home_ranking_vis_ranking_home_lead_pml\")\n",
    "scaler = pickle.load(open(hoops_dir / \"model/scalers/16_32_8|2|3|2.5e-06|home_lead_time_left_home_ranking_vis_ranking_home_lead_pml\", \"rb\"))\n"
   ]
  },
  {
   "cell_type": "code",
   "execution_count": 5,
   "id": "2754a3e9-8c73-4394-9ab2-101fe510afe9",
   "metadata": {},
   "outputs": [],
   "source": [
    "sbs_reg = sbs.loc[sbs['time'] < 48].copy(deep=True) # regulation only\n",
    "features = ['home_lead', 'log_time_left', 'home_ranking', 'vis_ranking', 'home_lead_per_root_minute']\n",
    "sbs_reg['home_lead'] = sbs_reg['home_score'] - sbs_reg['vis_score']\n",
    "sbs_reg['log_time_left'] = np.log(48 - sbs_reg['time'])\n",
    "sbs_reg['ppm'] = (sbs_reg['home_score'] + sbs_reg['vis_score']) / sbs_reg['time']\n",
    "sbs_reg['home_lead_per_root_minute'] = sbs_reg['home_lead'] / np.sqrt(48-sbs_reg['time'])\n",
    "sbs_reg['formatted_time'] = \"Q\" + (1 + sbs_reg.time // 12).astype(int).astype(str) + \" \" + (sbs_reg.time % 12 // 1).astype(int).astype(str) + \":\" + (60*(sbs_reg.time % 12 % 1)).astype(int).astype(str)\n"
   ]
  },
  {
   "cell_type": "code",
   "execution_count": 26,
   "id": "7a435dd9-0ba5-40bb-a858-50b3867dad20",
   "metadata": {},
   "outputs": [],
   "source": [
    "gameid = 22100946\n",
    "\n",
    "## Get fitted probabilities\n",
    "game_sbs = sbs_reg.loc[sbs_reg['game_id'] == gameid].reset_index(drop=True).copy(deep=True)\n",
    "last_event = game_sbs.iloc[-1]\n",
    "home, vis, game_date, home_score, vis_score = last_event[['home', 'vis', 'date', 'home_score', 'vis_score']]\n",
    "home_ranking = rankings.loc[(rankings['date'] == game_date) & (rankings['team'] == home), 'ranking']\n",
    "vis_ranking = rankings.loc[(rankings['date'] == game_date) & (rankings['team'] == vis), 'ranking']\n",
    "game_sbs['home_ranking'] = home_ranking.iloc[0]\n",
    "game_sbs['vis_ranking'] = vis_ranking.iloc[0]\n",
    "game_features = scaler.transform(game_sbs[features].to_numpy())\n",
    "home_probs = model.predict(game_features)[:,0].round(3)\n",
    "# Put in terms of winner\n",
    "winner = home if home_score > vis_score else vis\n",
    "winner_probs = home_probs if winner == home else 1-home_probs\n",
    "winner_lead = game_sbs['home_lead'] if winner == home else 1-game_sbs['home_lead']\n",
    "\n",
    "## Get implied probabilities\n",
    "date_lines_path = [path for path in os.listdir(lines_dir) if path.startswith(game_date)][0]\n",
    "date_lines = pd.read_csv(lines_dir / date_lines_path).reset_index()\n",
    "date_lines.sort_values(['home', 'index'], inplace=True)\n",
    "date_lines.reset_index(inplace=True, drop=True)\n",
    "game_lines = date_lines.loc[date_lines['home'] == home].drop(columns='index').dropna().copy(deep=True)\n",
    "game_lines['time_fmt'] = game_lines['time']\n",
    "game_lines['time'] = 12-game_lines['time_fmt'].str.split(\":\").apply(lambda time: int(time[0]) + int(time[1])/60) + 12*(game_lines.quarter.astype(int)-1)\n",
    "game_lines['home_implied_prob'] = game_lines['home_mline'].apply(american_lines_to_implied_prob).round(3)\n",
    "game_lines['vis_implied_prob'] = game_lines['vis_mline'].apply(american_lines_to_implied_prob).round(3)\n",
    "game_lines['formatted_time'] = \"Q\" + (1 + game_lines.time // 12).astype(int).astype(str) + \" \" + (game_lines.time % 12 // 1).astype(int).astype(str) + \":\" + (60*(game_lines.time % 12 % 1)).astype(int).astype(str)\n",
    "# Put in terms of winner\n",
    "game_lines['winner_implied_prob'] = game_lines['home_implied_prob'] if winner == home else game_lines['vis_implied_prob']\n",
    "game_lines['loser_implied_prob'] = game_lines['home_implied_prob'] if winner != home else game_lines['vis_implied_prob']\n",
    "game_lines['winner_lead'] = (game_lines['home_score'] - game_lines['vis_score']) * (1 if winner == home else -1)\n"
   ]
  },
  {
   "cell_type": "code",
   "execution_count": 27,
   "id": "bd518166-2adc-473b-8cb0-f12bcba1ac36",
   "metadata": {},
   "outputs": [
    {
     "data": {
      "application/vnd.plotly.v1+json": {
       "config": {
        "plotlyServerURL": "https://plot.ly"
       },
       "data": [
        {
         "hovertemplate": "Time: %{customdata.0} <br>DET Win Prob: %{y} <br>DET Lead: %{marker.color}",
         "legendgroup": "",
         "line": {
          "color": "gray",
          "dash": "solid"
         },
         "marker": {
          "line": {
           "width": 1
          },
          "opacity": 0.75,
          "size": 8,
          "symbol": "circle"
         },
         "mode": "lines",
         "name": "",
         "orientation": "v",
         "showlegend": false,
         "type": "scatter",
         "x": [
          0,
          0.27,
          0.83,
          1.2,
          1.6,
          2,
          2.18,
          2.52,
          2.87,
          3.05,
          3.65,
          3.92,
          4.17,
          4.58,
          4.85,
          5.42,
          5.6,
          5.9,
          6.48,
          6.75,
          6.93,
          7.15,
          7.83,
          8.12,
          8.33,
          8.33,
          8.92,
          9.22,
          9.62,
          10.33,
          10.7,
          10.85,
          11.53,
          11.72,
          12,
          12.3,
          12.75,
          13.2,
          13.65,
          14.1,
          14.38,
          15.28,
          15.58,
          15.82,
          16,
          16,
          16.35,
          16.57,
          16.83,
          16.97,
          16.97,
          17.93,
          18.15,
          18.77,
          20.02,
          20.12,
          20.78,
          21.03,
          21.85,
          22.92,
          23.43,
          23.78,
          24.23,
          25.03,
          25.27,
          25.27,
          25.93,
          26.65,
          26.98,
          27.83,
          28.65,
          29,
          29.35,
          29.72,
          30.23,
          30.97,
          31.28,
          32.15,
          32.73,
          33.1,
          33.28,
          33.28,
          34.22,
          34.42,
          35.02,
          35.4,
          35.47,
          36,
          36.53,
          37.23,
          37.83,
          37.97,
          38.88,
          39.18,
          39.85,
          39.85,
          40.48,
          41.97,
          42.17,
          43.42,
          43.42,
          43.85,
          44.73,
          45.08,
          45.4,
          46.33,
          46.57,
          46.85,
          47.68,
          47.68,
          47.83,
          47.83
         ],
         "xaxis": "x",
         "y": [
          0.45100000500679016,
          0.4129999876022339,
          0.38100001215934753,
          0.41100001335144043,
          0.3790000081062317,
          0.3659999966621399,
          0.3919999897480011,
          0.42899999022483826,
          0.48899999260902405,
          0.4490000009536743,
          0.40799999237060547,
          0.42800000309944153,
          0.3889999985694885,
          0.4480000138282776,
          0.48899999260902405,
          0.5450000166893005,
          0.48899999260902405,
          0.5210000276565552,
          0.6019999980926514,
          0.5460000038146973,
          0.6029999852180481,
          0.5460000038146973,
          0.6039999723434448,
          0.5220000147819519,
          0.5460000038146973,
          0.5730000138282776,
          0.6050000190734863,
          0.671999990940094,
          0.7609999775886536,
          0.7099999785423279,
          0.765999972820282,
          0.6790000200271606,
          0.6119999885559082,
          0.6830000281333923,
          0.6140000224113464,
          0.7179999947547913,
          0.6159999966621399,
          0.6890000104904175,
          0.777999997138977,
          0.8379999995231628,
          0.781000018119812,
          0.8420000076293945,
          0.8059999942779541,
          0.843999981880188,
          0.8080000281333923,
          0.7870000004768372,
          0.828000009059906,
          0.7900000214576721,
          0.8299999833106995,
          0.8119999766349792,
          0.7910000085830688,
          0.7450000047683716,
          0.7960000038146973,
          0.75,
          0.7239999771118164,
          0.6110000014305115,
          0.5429999828338623,
          0.6159999966621399,
          0.5149999856948853,
          0.5860000252723694,
          0.5540000200271606,
          0.5199999809265137,
          0.593999981880188,
          0.49300000071525574,
          0.5630000233650208,
          0.5260000228881836,
          0.6880000233650208,
          0.6100000143051147,
          0.6959999799728394,
          0.6190000176429749,
          0.7089999914169312,
          0.7799999713897705,
          0.7139999866485596,
          0.6769999861717224,
          0.5929999947547913,
          0.5199999809265137,
          0.41600000858306885,
          0.4909999966621399,
          0.4580000042915344,
          0.5329999923706055,
          0.4970000088214874,
          0.460999995470047,
          0.5419999957084656,
          0.46700000762939453,
          0.38100001215934753,
          0.5109999775886536,
          0.42800000309944153,
          0.5149999856948853,
          0.6539999842643738,
          0.5680000185966492,
          0.48100000619888306,
          0.42899999022483826,
          0.48399999737739563,
          0.36500000953674316,
          0.2619999945163727,
          0.3100000023841858,
          0.2150000035762787,
          0.29499998688697815,
          0.4860000014305115,
          0.3409999907016754,
          0.41100001335144043,
          0.4090000092983246,
          0.20600000023841858,
          0.11299999803304672,
          0.24699999392032623,
          0.5019999742507935,
          0.3790000081062317,
          0.6430000066757202,
          0.8859999775886536,
          0.9539999961853027,
          0.9990000128746033,
          0.9959999918937683
         ],
         "yaxis": "y"
        },
        {
         "customdata": [
          [
           "Q1 0:0"
          ],
          [
           "Q1 0:16"
          ],
          [
           "Q1 0:49"
          ],
          [
           "Q1 1:11"
          ],
          [
           "Q1 1:36"
          ],
          [
           "Q1 2:0"
          ],
          [
           "Q1 2:10"
          ],
          [
           "Q1 2:31"
          ],
          [
           "Q1 2:52"
          ],
          [
           "Q1 3:2"
          ],
          [
           "Q1 3:38"
          ],
          [
           "Q1 3:55"
          ],
          [
           "Q1 4:10"
          ],
          [
           "Q1 4:34"
          ],
          [
           "Q1 4:50"
          ],
          [
           "Q1 5:25"
          ],
          [
           "Q1 5:35"
          ],
          [
           "Q1 5:54"
          ],
          [
           "Q1 6:28"
          ],
          [
           "Q1 6:45"
          ],
          [
           "Q1 6:55"
          ],
          [
           "Q1 7:9"
          ],
          [
           "Q1 7:49"
          ],
          [
           "Q1 8:7"
          ],
          [
           "Q1 8:19"
          ],
          [
           "Q1 8:19"
          ],
          [
           "Q1 8:55"
          ],
          [
           "Q1 9:13"
          ],
          [
           "Q1 9:37"
          ],
          [
           "Q1 10:19"
          ],
          [
           "Q1 10:41"
          ],
          [
           "Q1 10:50"
          ],
          [
           "Q1 11:31"
          ],
          [
           "Q1 11:43"
          ],
          [
           "Q2 0:0"
          ],
          [
           "Q2 0:18"
          ],
          [
           "Q2 0:45"
          ],
          [
           "Q2 1:11"
          ],
          [
           "Q2 1:39"
          ],
          [
           "Q2 2:5"
          ],
          [
           "Q2 2:22"
          ],
          [
           "Q2 3:16"
          ],
          [
           "Q2 3:34"
          ],
          [
           "Q2 3:49"
          ],
          [
           "Q2 4:0"
          ],
          [
           "Q2 4:0"
          ],
          [
           "Q2 4:21"
          ],
          [
           "Q2 4:34"
          ],
          [
           "Q2 4:49"
          ],
          [
           "Q2 4:58"
          ],
          [
           "Q2 4:58"
          ],
          [
           "Q2 5:55"
          ],
          [
           "Q2 6:8"
          ],
          [
           "Q2 6:46"
          ],
          [
           "Q2 8:1"
          ],
          [
           "Q2 8:7"
          ],
          [
           "Q2 8:46"
          ],
          [
           "Q2 9:1"
          ],
          [
           "Q2 9:51"
          ],
          [
           "Q2 10:55"
          ],
          [
           "Q2 11:25"
          ],
          [
           "Q2 11:46"
          ],
          [
           "Q3 0:13"
          ],
          [
           "Q3 1:1"
          ],
          [
           "Q3 1:16"
          ],
          [
           "Q3 1:16"
          ],
          [
           "Q3 1:55"
          ],
          [
           "Q3 2:38"
          ],
          [
           "Q3 2:58"
          ],
          [
           "Q3 3:49"
          ],
          [
           "Q3 4:38"
          ],
          [
           "Q3 5:0"
          ],
          [
           "Q3 5:21"
          ],
          [
           "Q3 5:43"
          ],
          [
           "Q3 6:13"
          ],
          [
           "Q3 6:58"
          ],
          [
           "Q3 7:16"
          ],
          [
           "Q3 8:8"
          ],
          [
           "Q3 8:43"
          ],
          [
           "Q3 9:6"
          ],
          [
           "Q3 9:16"
          ],
          [
           "Q3 9:16"
          ],
          [
           "Q3 10:13"
          ],
          [
           "Q3 10:25"
          ],
          [
           "Q3 11:1"
          ],
          [
           "Q3 11:23"
          ],
          [
           "Q3 11:28"
          ],
          [
           "Q4 0:0"
          ],
          [
           "Q4 0:31"
          ],
          [
           "Q4 1:13"
          ],
          [
           "Q4 1:49"
          ],
          [
           "Q4 1:58"
          ],
          [
           "Q4 2:52"
          ],
          [
           "Q4 3:10"
          ],
          [
           "Q4 3:51"
          ],
          [
           "Q4 3:51"
          ],
          [
           "Q4 4:28"
          ],
          [
           "Q4 5:58"
          ],
          [
           "Q4 6:10"
          ],
          [
           "Q4 7:25"
          ],
          [
           "Q4 7:25"
          ],
          [
           "Q4 7:51"
          ],
          [
           "Q4 8:43"
          ],
          [
           "Q4 9:4"
          ],
          [
           "Q4 9:23"
          ],
          [
           "Q4 10:19"
          ],
          [
           "Q4 10:34"
          ],
          [
           "Q4 10:51"
          ],
          [
           "Q4 11:40"
          ],
          [
           "Q4 11:40"
          ],
          [
           "Q4 11:49"
          ],
          [
           "Q4 11:49"
          ]
         ],
         "hovertemplate": "Time: %{customdata.0} <br>DET Win Prob: %{y} <br>DET Lead: %{marker.color}",
         "legendgroup": "",
         "marker": {
          "color": [
           0,
           -2,
           -4,
           -2,
           -4,
           -5,
           -3,
           -1,
           2,
           0,
           -2,
           -1,
           -3,
           0,
           2,
           5,
           2,
           4,
           7,
           5,
           7,
           5,
           7,
           4,
           5,
           6,
           7,
           9,
           12,
           10,
           12,
           9,
           7,
           9,
           7,
           10,
           7,
           9,
           12,
           15,
           12,
           15,
           13,
           15,
           13,
           12,
           14,
           12,
           14,
           13,
           12,
           10,
           12,
           10,
           9,
           6,
           4,
           6,
           3,
           5,
           4,
           3,
           5,
           2,
           4,
           3,
           7,
           5,
           7,
           5,
           7,
           9,
           7,
           6,
           4,
           2,
           -1,
           1,
           0,
           2,
           1,
           0,
           2,
           0,
           -2,
           1,
           -1,
           1,
           4,
           2,
           0,
           -1,
           0,
           -2,
           -4,
           -3,
           -5,
           -3,
           0,
           -2,
           -1,
           -1,
           -4,
           -6,
           -3,
           0,
           -1,
           1,
           2,
           3,
           5,
           4
          ],
          "coloraxis": "coloraxis",
          "line": {
           "width": 1
          },
          "opacity": 0.75,
          "size": 8,
          "symbol": "circle"
         },
         "mode": "markers",
         "name": "",
         "orientation": "v",
         "showlegend": false,
         "type": "scatter",
         "x": [
          0,
          0.27,
          0.83,
          1.2,
          1.6,
          2,
          2.18,
          2.52,
          2.87,
          3.05,
          3.65,
          3.92,
          4.17,
          4.58,
          4.85,
          5.42,
          5.6,
          5.9,
          6.48,
          6.75,
          6.93,
          7.15,
          7.83,
          8.12,
          8.33,
          8.33,
          8.92,
          9.22,
          9.62,
          10.33,
          10.7,
          10.85,
          11.53,
          11.72,
          12,
          12.3,
          12.75,
          13.2,
          13.65,
          14.1,
          14.38,
          15.28,
          15.58,
          15.82,
          16,
          16,
          16.35,
          16.57,
          16.83,
          16.97,
          16.97,
          17.93,
          18.15,
          18.77,
          20.02,
          20.12,
          20.78,
          21.03,
          21.85,
          22.92,
          23.43,
          23.78,
          24.23,
          25.03,
          25.27,
          25.27,
          25.93,
          26.65,
          26.98,
          27.83,
          28.65,
          29,
          29.35,
          29.72,
          30.23,
          30.97,
          31.28,
          32.15,
          32.73,
          33.1,
          33.28,
          33.28,
          34.22,
          34.42,
          35.02,
          35.4,
          35.47,
          36,
          36.53,
          37.23,
          37.83,
          37.97,
          38.88,
          39.18,
          39.85,
          39.85,
          40.48,
          41.97,
          42.17,
          43.42,
          43.42,
          43.85,
          44.73,
          45.08,
          45.4,
          46.33,
          46.57,
          46.85,
          47.68,
          47.68,
          47.83,
          47.83
         ],
         "xaxis": "x",
         "y": [
          0.45100000500679016,
          0.4129999876022339,
          0.38100001215934753,
          0.41100001335144043,
          0.3790000081062317,
          0.3659999966621399,
          0.3919999897480011,
          0.42899999022483826,
          0.48899999260902405,
          0.4490000009536743,
          0.40799999237060547,
          0.42800000309944153,
          0.3889999985694885,
          0.4480000138282776,
          0.48899999260902405,
          0.5450000166893005,
          0.48899999260902405,
          0.5210000276565552,
          0.6019999980926514,
          0.5460000038146973,
          0.6029999852180481,
          0.5460000038146973,
          0.6039999723434448,
          0.5220000147819519,
          0.5460000038146973,
          0.5730000138282776,
          0.6050000190734863,
          0.671999990940094,
          0.7609999775886536,
          0.7099999785423279,
          0.765999972820282,
          0.6790000200271606,
          0.6119999885559082,
          0.6830000281333923,
          0.6140000224113464,
          0.7179999947547913,
          0.6159999966621399,
          0.6890000104904175,
          0.777999997138977,
          0.8379999995231628,
          0.781000018119812,
          0.8420000076293945,
          0.8059999942779541,
          0.843999981880188,
          0.8080000281333923,
          0.7870000004768372,
          0.828000009059906,
          0.7900000214576721,
          0.8299999833106995,
          0.8119999766349792,
          0.7910000085830688,
          0.7450000047683716,
          0.7960000038146973,
          0.75,
          0.7239999771118164,
          0.6110000014305115,
          0.5429999828338623,
          0.6159999966621399,
          0.5149999856948853,
          0.5860000252723694,
          0.5540000200271606,
          0.5199999809265137,
          0.593999981880188,
          0.49300000071525574,
          0.5630000233650208,
          0.5260000228881836,
          0.6880000233650208,
          0.6100000143051147,
          0.6959999799728394,
          0.6190000176429749,
          0.7089999914169312,
          0.7799999713897705,
          0.7139999866485596,
          0.6769999861717224,
          0.5929999947547913,
          0.5199999809265137,
          0.41600000858306885,
          0.4909999966621399,
          0.4580000042915344,
          0.5329999923706055,
          0.4970000088214874,
          0.460999995470047,
          0.5419999957084656,
          0.46700000762939453,
          0.38100001215934753,
          0.5109999775886536,
          0.42800000309944153,
          0.5149999856948853,
          0.6539999842643738,
          0.5680000185966492,
          0.48100000619888306,
          0.42899999022483826,
          0.48399999737739563,
          0.36500000953674316,
          0.2619999945163727,
          0.3100000023841858,
          0.2150000035762787,
          0.29499998688697815,
          0.4860000014305115,
          0.3409999907016754,
          0.41100001335144043,
          0.4090000092983246,
          0.20600000023841858,
          0.11299999803304672,
          0.24699999392032623,
          0.5019999742507935,
          0.3790000081062317,
          0.6430000066757202,
          0.8859999775886536,
          0.9539999961853027,
          0.9990000128746033,
          0.9959999918937683
         ],
         "yaxis": "y"
        }
       ],
       "layout": {
        "coloraxis": {
         "cmax": 15,
         "cmid": 0,
         "cmin": -6,
         "colorbar": {
          "title": {
           "text": "DET Lead"
          }
         },
         "colorscale": [
          [
           0,
           "rgb(103,0,31)"
          ],
          [
           0.1,
           "rgb(178,24,43)"
          ],
          [
           0.2,
           "rgb(214,96,77)"
          ],
          [
           0.3,
           "rgb(244,165,130)"
          ],
          [
           0.4,
           "rgb(253,219,199)"
          ],
          [
           0.5,
           "rgb(247,247,247)"
          ],
          [
           0.6,
           "rgb(209,229,240)"
          ],
          [
           0.7,
           "rgb(146,197,222)"
          ],
          [
           0.8,
           "rgb(67,147,195)"
          ],
          [
           0.9,
           "rgb(33,102,172)"
          ],
          [
           1,
           "rgb(5,48,97)"
          ]
         ]
        },
        "dragmode": "select",
        "height": 600,
        "shapes": [
         {
          "line": {
           "color": "gray",
           "dash": "dash",
           "width": 0.75
          },
          "type": "line",
          "x0": -1000,
          "x1": 1000,
          "y0": 0.5,
          "y1": 0.5
         }
        ],
        "template": {
         "data": {
          "bar": [
           {
            "error_x": {
             "color": "#2a3f5f"
            },
            "error_y": {
             "color": "#2a3f5f"
            },
            "marker": {
             "line": {
              "color": "#E5ECF6",
              "width": 0.5
             },
             "pattern": {
              "fillmode": "overlay",
              "size": 10,
              "solidity": 0.2
             }
            },
            "type": "bar"
           }
          ],
          "barpolar": [
           {
            "marker": {
             "line": {
              "color": "#E5ECF6",
              "width": 0.5
             },
             "pattern": {
              "fillmode": "overlay",
              "size": 10,
              "solidity": 0.2
             }
            },
            "type": "barpolar"
           }
          ],
          "carpet": [
           {
            "aaxis": {
             "endlinecolor": "#2a3f5f",
             "gridcolor": "white",
             "linecolor": "white",
             "minorgridcolor": "white",
             "startlinecolor": "#2a3f5f"
            },
            "baxis": {
             "endlinecolor": "#2a3f5f",
             "gridcolor": "white",
             "linecolor": "white",
             "minorgridcolor": "white",
             "startlinecolor": "#2a3f5f"
            },
            "type": "carpet"
           }
          ],
          "choropleth": [
           {
            "colorbar": {
             "outlinewidth": 0,
             "ticks": ""
            },
            "type": "choropleth"
           }
          ],
          "contour": [
           {
            "colorbar": {
             "outlinewidth": 0,
             "ticks": ""
            },
            "colorscale": [
             [
              0,
              "#0d0887"
             ],
             [
              0.1111111111111111,
              "#46039f"
             ],
             [
              0.2222222222222222,
              "#7201a8"
             ],
             [
              0.3333333333333333,
              "#9c179e"
             ],
             [
              0.4444444444444444,
              "#bd3786"
             ],
             [
              0.5555555555555556,
              "#d8576b"
             ],
             [
              0.6666666666666666,
              "#ed7953"
             ],
             [
              0.7777777777777778,
              "#fb9f3a"
             ],
             [
              0.8888888888888888,
              "#fdca26"
             ],
             [
              1,
              "#f0f921"
             ]
            ],
            "type": "contour"
           }
          ],
          "contourcarpet": [
           {
            "colorbar": {
             "outlinewidth": 0,
             "ticks": ""
            },
            "type": "contourcarpet"
           }
          ],
          "heatmap": [
           {
            "colorbar": {
             "outlinewidth": 0,
             "ticks": ""
            },
            "colorscale": [
             [
              0,
              "#0d0887"
             ],
             [
              0.1111111111111111,
              "#46039f"
             ],
             [
              0.2222222222222222,
              "#7201a8"
             ],
             [
              0.3333333333333333,
              "#9c179e"
             ],
             [
              0.4444444444444444,
              "#bd3786"
             ],
             [
              0.5555555555555556,
              "#d8576b"
             ],
             [
              0.6666666666666666,
              "#ed7953"
             ],
             [
              0.7777777777777778,
              "#fb9f3a"
             ],
             [
              0.8888888888888888,
              "#fdca26"
             ],
             [
              1,
              "#f0f921"
             ]
            ],
            "type": "heatmap"
           }
          ],
          "heatmapgl": [
           {
            "colorbar": {
             "outlinewidth": 0,
             "ticks": ""
            },
            "colorscale": [
             [
              0,
              "#0d0887"
             ],
             [
              0.1111111111111111,
              "#46039f"
             ],
             [
              0.2222222222222222,
              "#7201a8"
             ],
             [
              0.3333333333333333,
              "#9c179e"
             ],
             [
              0.4444444444444444,
              "#bd3786"
             ],
             [
              0.5555555555555556,
              "#d8576b"
             ],
             [
              0.6666666666666666,
              "#ed7953"
             ],
             [
              0.7777777777777778,
              "#fb9f3a"
             ],
             [
              0.8888888888888888,
              "#fdca26"
             ],
             [
              1,
              "#f0f921"
             ]
            ],
            "type": "heatmapgl"
           }
          ],
          "histogram": [
           {
            "marker": {
             "pattern": {
              "fillmode": "overlay",
              "size": 10,
              "solidity": 0.2
             }
            },
            "type": "histogram"
           }
          ],
          "histogram2d": [
           {
            "colorbar": {
             "outlinewidth": 0,
             "ticks": ""
            },
            "colorscale": [
             [
              0,
              "#0d0887"
             ],
             [
              0.1111111111111111,
              "#46039f"
             ],
             [
              0.2222222222222222,
              "#7201a8"
             ],
             [
              0.3333333333333333,
              "#9c179e"
             ],
             [
              0.4444444444444444,
              "#bd3786"
             ],
             [
              0.5555555555555556,
              "#d8576b"
             ],
             [
              0.6666666666666666,
              "#ed7953"
             ],
             [
              0.7777777777777778,
              "#fb9f3a"
             ],
             [
              0.8888888888888888,
              "#fdca26"
             ],
             [
              1,
              "#f0f921"
             ]
            ],
            "type": "histogram2d"
           }
          ],
          "histogram2dcontour": [
           {
            "colorbar": {
             "outlinewidth": 0,
             "ticks": ""
            },
            "colorscale": [
             [
              0,
              "#0d0887"
             ],
             [
              0.1111111111111111,
              "#46039f"
             ],
             [
              0.2222222222222222,
              "#7201a8"
             ],
             [
              0.3333333333333333,
              "#9c179e"
             ],
             [
              0.4444444444444444,
              "#bd3786"
             ],
             [
              0.5555555555555556,
              "#d8576b"
             ],
             [
              0.6666666666666666,
              "#ed7953"
             ],
             [
              0.7777777777777778,
              "#fb9f3a"
             ],
             [
              0.8888888888888888,
              "#fdca26"
             ],
             [
              1,
              "#f0f921"
             ]
            ],
            "type": "histogram2dcontour"
           }
          ],
          "mesh3d": [
           {
            "colorbar": {
             "outlinewidth": 0,
             "ticks": ""
            },
            "type": "mesh3d"
           }
          ],
          "parcoords": [
           {
            "line": {
             "colorbar": {
              "outlinewidth": 0,
              "ticks": ""
             }
            },
            "type": "parcoords"
           }
          ],
          "pie": [
           {
            "automargin": true,
            "type": "pie"
           }
          ],
          "scatter": [
           {
            "marker": {
             "colorbar": {
              "outlinewidth": 0,
              "ticks": ""
             }
            },
            "type": "scatter"
           }
          ],
          "scatter3d": [
           {
            "line": {
             "colorbar": {
              "outlinewidth": 0,
              "ticks": ""
             }
            },
            "marker": {
             "colorbar": {
              "outlinewidth": 0,
              "ticks": ""
             }
            },
            "type": "scatter3d"
           }
          ],
          "scattercarpet": [
           {
            "marker": {
             "colorbar": {
              "outlinewidth": 0,
              "ticks": ""
             }
            },
            "type": "scattercarpet"
           }
          ],
          "scattergeo": [
           {
            "marker": {
             "colorbar": {
              "outlinewidth": 0,
              "ticks": ""
             }
            },
            "type": "scattergeo"
           }
          ],
          "scattergl": [
           {
            "marker": {
             "colorbar": {
              "outlinewidth": 0,
              "ticks": ""
             }
            },
            "type": "scattergl"
           }
          ],
          "scattermapbox": [
           {
            "marker": {
             "colorbar": {
              "outlinewidth": 0,
              "ticks": ""
             }
            },
            "type": "scattermapbox"
           }
          ],
          "scatterpolar": [
           {
            "marker": {
             "colorbar": {
              "outlinewidth": 0,
              "ticks": ""
             }
            },
            "type": "scatterpolar"
           }
          ],
          "scatterpolargl": [
           {
            "marker": {
             "colorbar": {
              "outlinewidth": 0,
              "ticks": ""
             }
            },
            "type": "scatterpolargl"
           }
          ],
          "scatterternary": [
           {
            "marker": {
             "colorbar": {
              "outlinewidth": 0,
              "ticks": ""
             }
            },
            "type": "scatterternary"
           }
          ],
          "surface": [
           {
            "colorbar": {
             "outlinewidth": 0,
             "ticks": ""
            },
            "colorscale": [
             [
              0,
              "#0d0887"
             ],
             [
              0.1111111111111111,
              "#46039f"
             ],
             [
              0.2222222222222222,
              "#7201a8"
             ],
             [
              0.3333333333333333,
              "#9c179e"
             ],
             [
              0.4444444444444444,
              "#bd3786"
             ],
             [
              0.5555555555555556,
              "#d8576b"
             ],
             [
              0.6666666666666666,
              "#ed7953"
             ],
             [
              0.7777777777777778,
              "#fb9f3a"
             ],
             [
              0.8888888888888888,
              "#fdca26"
             ],
             [
              1,
              "#f0f921"
             ]
            ],
            "type": "surface"
           }
          ],
          "table": [
           {
            "cells": {
             "fill": {
              "color": "#EBF0F8"
             },
             "line": {
              "color": "white"
             }
            },
            "header": {
             "fill": {
              "color": "#C8D4E3"
             },
             "line": {
              "color": "white"
             }
            },
            "type": "table"
           }
          ]
         },
         "layout": {
          "annotationdefaults": {
           "arrowcolor": "#2a3f5f",
           "arrowhead": 0,
           "arrowwidth": 1
          },
          "autotypenumbers": "strict",
          "coloraxis": {
           "colorbar": {
            "outlinewidth": 0,
            "ticks": ""
           }
          },
          "colorscale": {
           "diverging": [
            [
             0,
             "#8e0152"
            ],
            [
             0.1,
             "#c51b7d"
            ],
            [
             0.2,
             "#de77ae"
            ],
            [
             0.3,
             "#f1b6da"
            ],
            [
             0.4,
             "#fde0ef"
            ],
            [
             0.5,
             "#f7f7f7"
            ],
            [
             0.6,
             "#e6f5d0"
            ],
            [
             0.7,
             "#b8e186"
            ],
            [
             0.8,
             "#7fbc41"
            ],
            [
             0.9,
             "#4d9221"
            ],
            [
             1,
             "#276419"
            ]
           ],
           "sequential": [
            [
             0,
             "#0d0887"
            ],
            [
             0.1111111111111111,
             "#46039f"
            ],
            [
             0.2222222222222222,
             "#7201a8"
            ],
            [
             0.3333333333333333,
             "#9c179e"
            ],
            [
             0.4444444444444444,
             "#bd3786"
            ],
            [
             0.5555555555555556,
             "#d8576b"
            ],
            [
             0.6666666666666666,
             "#ed7953"
            ],
            [
             0.7777777777777778,
             "#fb9f3a"
            ],
            [
             0.8888888888888888,
             "#fdca26"
            ],
            [
             1,
             "#f0f921"
            ]
           ],
           "sequentialminus": [
            [
             0,
             "#0d0887"
            ],
            [
             0.1111111111111111,
             "#46039f"
            ],
            [
             0.2222222222222222,
             "#7201a8"
            ],
            [
             0.3333333333333333,
             "#9c179e"
            ],
            [
             0.4444444444444444,
             "#bd3786"
            ],
            [
             0.5555555555555556,
             "#d8576b"
            ],
            [
             0.6666666666666666,
             "#ed7953"
            ],
            [
             0.7777777777777778,
             "#fb9f3a"
            ],
            [
             0.8888888888888888,
             "#fdca26"
            ],
            [
             1,
             "#f0f921"
            ]
           ]
          },
          "colorway": [
           "#636efa",
           "#EF553B",
           "#00cc96",
           "#ab63fa",
           "#FFA15A",
           "#19d3f3",
           "#FF6692",
           "#B6E880",
           "#FF97FF",
           "#FECB52"
          ],
          "font": {
           "color": "#2a3f5f"
          },
          "geo": {
           "bgcolor": "white",
           "lakecolor": "white",
           "landcolor": "#E5ECF6",
           "showlakes": true,
           "showland": true,
           "subunitcolor": "white"
          },
          "hoverlabel": {
           "align": "left"
          },
          "hovermode": "closest",
          "mapbox": {
           "style": "light"
          },
          "paper_bgcolor": "white",
          "plot_bgcolor": "#E5ECF6",
          "polar": {
           "angularaxis": {
            "gridcolor": "white",
            "linecolor": "white",
            "ticks": ""
           },
           "bgcolor": "#E5ECF6",
           "radialaxis": {
            "gridcolor": "white",
            "linecolor": "white",
            "ticks": ""
           }
          },
          "scene": {
           "xaxis": {
            "backgroundcolor": "#E5ECF6",
            "gridcolor": "white",
            "gridwidth": 2,
            "linecolor": "white",
            "showbackground": true,
            "ticks": "",
            "zerolinecolor": "white"
           },
           "yaxis": {
            "backgroundcolor": "#E5ECF6",
            "gridcolor": "white",
            "gridwidth": 2,
            "linecolor": "white",
            "showbackground": true,
            "ticks": "",
            "zerolinecolor": "white"
           },
           "zaxis": {
            "backgroundcolor": "#E5ECF6",
            "gridcolor": "white",
            "gridwidth": 2,
            "linecolor": "white",
            "showbackground": true,
            "ticks": "",
            "zerolinecolor": "white"
           }
          },
          "shapedefaults": {
           "line": {
            "color": "#2a3f5f"
           }
          },
          "ternary": {
           "aaxis": {
            "gridcolor": "white",
            "linecolor": "white",
            "ticks": ""
           },
           "baxis": {
            "gridcolor": "white",
            "linecolor": "white",
            "ticks": ""
           },
           "bgcolor": "#E5ECF6",
           "caxis": {
            "gridcolor": "white",
            "linecolor": "white",
            "ticks": ""
           }
          },
          "title": {
           "x": 0.05
          },
          "xaxis": {
           "automargin": true,
           "gridcolor": "white",
           "linecolor": "white",
           "ticks": "",
           "title": {
            "standoff": 15
           },
           "zerolinecolor": "white",
           "zerolinewidth": 2
          },
          "yaxis": {
           "automargin": true,
           "gridcolor": "white",
           "linecolor": "white",
           "ticks": "",
           "title": {
            "standoff": 15
           },
           "zerolinecolor": "white",
           "zerolinewidth": 2
          }
         }
        },
        "title": {
         "text": "DET In Game Win Probability - IND @ DET (2022-03-04)"
        },
        "width": 1000,
        "xaxis": {
         "dtick": 12,
         "range": [
          -3,
          51
         ],
         "tick0": 0,
         "tickmode": "linear",
         "title": {
          "text": "Time"
         },
         "type": "linear"
        },
        "yaxis": {
         "dtick": 0.1,
         "range": [
          -0.05,
          1.05
         ],
         "tick0": 0,
         "tickmode": "linear",
         "title": {
          "text": "DET Win Prob."
         },
         "type": "linear"
        }
       }
      },
      "image/png": "[encoded data removed]",
      "text/html": [
       "<div>                            <div id=\"05a2df1f-957c-4e6e-8b6c-31a2cb4091a9\" class=\"plotly-graph-div\" style=\"height:600px; width:1000px;\"></div>            <script type=\"text/javascript\">                require([\"plotly\"], function(Plotly) {                    window.PLOTLYENV=window.PLOTLYENV || {};                                    if (document.getElementById(\"05a2df1f-957c-4e6e-8b6c-31a2cb4091a9\")) {                    Plotly.newPlot(                        \"05a2df1f-957c-4e6e-8b6c-31a2cb4091a9\",                        [{\"hovertemplate\":\"Time: %{customdata.0} <br>DET Win Prob: %{y} <br>DET Lead: %{marker.color}\",\"legendgroup\":\"\",\"line\":{\"color\":\"gray\",\"dash\":\"solid\"},\"marker\":{\"symbol\":\"circle\",\"line\":{\"width\":1},\"opacity\":0.75,\"size\":8},\"mode\":\"lines\",\"name\":\"\",\"orientation\":\"v\",\"showlegend\":false,\"x\":[0.0,0.27,0.83,1.2,1.6,2.0,2.18,2.52,2.87,3.05,3.65,3.92,4.17,4.58,4.85,5.42,5.6,5.9,6.48,6.75,6.93,7.15,7.83,8.12,8.33,8.33,8.92,9.22,9.62,10.33,10.7,10.85,11.53,11.72,12.0,12.3,12.75,13.2,13.65,14.1,14.38,15.28,15.58,15.82,16.0,16.0,16.35,16.57,16.83,16.97,16.97,17.93,18.15,18.77,20.02,20.12,20.78,21.03,21.85,22.92,23.43,23.78,24.23,25.03,25.27,25.27,25.93,26.65,26.98,27.83,28.65,29.0,29.35,29.72,30.23,30.97,31.28,32.15,32.73,33.1,33.28,33.28,34.22,34.42,35.02,35.4,35.47,36.0,36.53,37.23,37.83,37.97,38.88,39.18,39.85,39.85,40.48,41.97,42.17,43.42,43.42,43.85,44.73,45.08,45.4,46.33,46.57,46.85,47.68,47.68,47.83,47.83],\"xaxis\":\"x\",\"y\":[0.45100000500679016,0.4129999876022339,0.38100001215934753,0.41100001335144043,0.3790000081062317,0.3659999966621399,0.3919999897480011,0.42899999022483826,0.48899999260902405,0.4490000009536743,0.40799999237060547,0.42800000309944153,0.3889999985694885,0.4480000138282776,0.48899999260902405,0.5450000166893005,0.48899999260902405,0.5210000276565552,0.6019999980926514,0.5460000038146973,0.6029999852180481,0.5460000038146973,0.6039999723434448,0.5220000147819519,0.5460000038146973,0.5730000138282776,0.6050000190734863,0.671999990940094,0.7609999775886536,0.7099999785423279,0.765999972820282,0.6790000200271606,0.6119999885559082,0.6830000281333923,0.6140000224113464,0.7179999947547913,0.6159999966621399,0.6890000104904175,0.777999997138977,0.8379999995231628,0.781000018119812,0.8420000076293945,0.8059999942779541,0.843999981880188,0.8080000281333923,0.7870000004768372,0.828000009059906,0.7900000214576721,0.8299999833106995,0.8119999766349792,0.7910000085830688,0.7450000047683716,0.7960000038146973,0.75,0.7239999771118164,0.6110000014305115,0.5429999828338623,0.6159999966621399,0.5149999856948853,0.5860000252723694,0.5540000200271606,0.5199999809265137,0.593999981880188,0.49300000071525574,0.5630000233650208,0.5260000228881836,0.6880000233650208,0.6100000143051147,0.6959999799728394,0.6190000176429749,0.7089999914169312,0.7799999713897705,0.7139999866485596,0.6769999861717224,0.5929999947547913,0.5199999809265137,0.41600000858306885,0.4909999966621399,0.4580000042915344,0.5329999923706055,0.4970000088214874,0.460999995470047,0.5419999957084656,0.46700000762939453,0.38100001215934753,0.5109999775886536,0.42800000309944153,0.5149999856948853,0.6539999842643738,0.5680000185966492,0.48100000619888306,0.42899999022483826,0.48399999737739563,0.36500000953674316,0.2619999945163727,0.3100000023841858,0.2150000035762787,0.29499998688697815,0.4860000014305115,0.3409999907016754,0.41100001335144043,0.4090000092983246,0.20600000023841858,0.11299999803304672,0.24699999392032623,0.5019999742507935,0.3790000081062317,0.6430000066757202,0.8859999775886536,0.9539999961853027,0.9990000128746033,0.9959999918937683],\"yaxis\":\"y\",\"type\":\"scatter\"},{\"customdata\":[[\"Q1 0:0\"],[\"Q1 0:16\"],[\"Q1 0:49\"],[\"Q1 1:11\"],[\"Q1 1:36\"],[\"Q1 2:0\"],[\"Q1 2:10\"],[\"Q1 2:31\"],[\"Q1 2:52\"],[\"Q1 3:2\"],[\"Q1 3:38\"],[\"Q1 3:55\"],[\"Q1 4:10\"],[\"Q1 4:34\"],[\"Q1 4:50\"],[\"Q1 5:25\"],[\"Q1 5:35\"],[\"Q1 5:54\"],[\"Q1 6:28\"],[\"Q1 6:45\"],[\"Q1 6:55\"],[\"Q1 7:9\"],[\"Q1 7:49\"],[\"Q1 8:7\"],[\"Q1 8:19\"],[\"Q1 8:19\"],[\"Q1 8:55\"],[\"Q1 9:13\"],[\"Q1 9:37\"],[\"Q1 10:19\"],[\"Q1 10:41\"],[\"Q1 10:50\"],[\"Q1 11:31\"],[\"Q1 11:43\"],[\"Q2 0:0\"],[\"Q2 0:18\"],[\"Q2 0:45\"],[\"Q2 1:11\"],[\"Q2 1:39\"],[\"Q2 2:5\"],[\"Q2 2:22\"],[\"Q2 3:16\"],[\"Q2 3:34\"],[\"Q2 3:49\"],[\"Q2 4:0\"],[\"Q2 4:0\"],[\"Q2 4:21\"],[\"Q2 4:34\"],[\"Q2 4:49\"],[\"Q2 4:58\"],[\"Q2 4:58\"],[\"Q2 5:55\"],[\"Q2 6:8\"],[\"Q2 6:46\"],[\"Q2 8:1\"],[\"Q2 8:7\"],[\"Q2 8:46\"],[\"Q2 9:1\"],[\"Q2 9:51\"],[\"Q2 10:55\"],[\"Q2 11:25\"],[\"Q2 11:46\"],[\"Q3 0:13\"],[\"Q3 1:1\"],[\"Q3 1:16\"],[\"Q3 1:16\"],[\"Q3 1:55\"],[\"Q3 2:38\"],[\"Q3 2:58\"],[\"Q3 3:49\"],[\"Q3 4:38\"],[\"Q3 5:0\"],[\"Q3 5:21\"],[\"Q3 5:43\"],[\"Q3 6:13\"],[\"Q3 6:58\"],[\"Q3 7:16\"],[\"Q3 8:8\"],[\"Q3 8:43\"],[\"Q3 9:6\"],[\"Q3 9:16\"],[\"Q3 9:16\"],[\"Q3 10:13\"],[\"Q3 10:25\"],[\"Q3 11:1\"],[\"Q3 11:23\"],[\"Q3 11:28\"],[\"Q4 0:0\"],[\"Q4 0:31\"],[\"Q4 1:13\"],[\"Q4 1:49\"],[\"Q4 1:58\"],[\"Q4 2:52\"],[\"Q4 3:10\"],[\"Q4 3:51\"],[\"Q4 3:51\"],[\"Q4 4:28\"],[\"Q4 5:58\"],[\"Q4 6:10\"],[\"Q4 7:25\"],[\"Q4 7:25\"],[\"Q4 7:51\"],[\"Q4 8:43\"],[\"Q4 9:4\"],[\"Q4 9:23\"],[\"Q4 10:19\"],[\"Q4 10:34\"],[\"Q4 10:51\"],[\"Q4 11:40\"],[\"Q4 11:40\"],[\"Q4 11:49\"],[\"Q4 11:49\"]],\"hovertemplate\":\"Time: %{customdata.0} <br>DET Win Prob: %{y} <br>DET Lead: %{marker.color}\",\"legendgroup\":\"\",\"marker\":{\"color\":[0,-2,-4,-2,-4,-5,-3,-1,2,0,-2,-1,-3,0,2,5,2,4,7,5,7,5,7,4,5,6,7,9,12,10,12,9,7,9,7,10,7,9,12,15,12,15,13,15,13,12,14,12,14,13,12,10,12,10,9,6,4,6,3,5,4,3,5,2,4,3,7,5,7,5,7,9,7,6,4,2,-1,1,0,2,1,0,2,0,-2,1,-1,1,4,2,0,-1,0,-2,-4,-3,-5,-3,0,-2,-1,-1,-4,-6,-3,0,-1,1,2,3,5,4],\"coloraxis\":\"coloraxis\",\"symbol\":\"circle\",\"line\":{\"width\":1},\"opacity\":0.75,\"size\":8},\"mode\":\"markers\",\"name\":\"\",\"orientation\":\"v\",\"showlegend\":false,\"x\":[0.0,0.27,0.83,1.2,1.6,2.0,2.18,2.52,2.87,3.05,3.65,3.92,4.17,4.58,4.85,5.42,5.6,5.9,6.48,6.75,6.93,7.15,7.83,8.12,8.33,8.33,8.92,9.22,9.62,10.33,10.7,10.85,11.53,11.72,12.0,12.3,12.75,13.2,13.65,14.1,14.38,15.28,15.58,15.82,16.0,16.0,16.35,16.57,16.83,16.97,16.97,17.93,18.15,18.77,20.02,20.12,20.78,21.03,21.85,22.92,23.43,23.78,24.23,25.03,25.27,25.27,25.93,26.65,26.98,27.83,28.65,29.0,29.35,29.72,30.23,30.97,31.28,32.15,32.73,33.1,33.28,33.28,34.22,34.42,35.02,35.4,35.47,36.0,36.53,37.23,37.83,37.97,38.88,39.18,39.85,39.85,40.48,41.97,42.17,43.42,43.42,43.85,44.73,45.08,45.4,46.33,46.57,46.85,47.68,47.68,47.83,47.83],\"xaxis\":\"x\",\"y\":[0.45100000500679016,0.4129999876022339,0.38100001215934753,0.41100001335144043,0.3790000081062317,0.3659999966621399,0.3919999897480011,0.42899999022483826,0.48899999260902405,0.4490000009536743,0.40799999237060547,0.42800000309944153,0.3889999985694885,0.4480000138282776,0.48899999260902405,0.5450000166893005,0.48899999260902405,0.5210000276565552,0.6019999980926514,0.5460000038146973,0.6029999852180481,0.5460000038146973,0.6039999723434448,0.5220000147819519,0.5460000038146973,0.5730000138282776,0.6050000190734863,0.671999990940094,0.7609999775886536,0.7099999785423279,0.765999972820282,0.6790000200271606,0.6119999885559082,0.6830000281333923,0.6140000224113464,0.7179999947547913,0.6159999966621399,0.6890000104904175,0.777999997138977,0.8379999995231628,0.781000018119812,0.8420000076293945,0.8059999942779541,0.843999981880188,0.8080000281333923,0.7870000004768372,0.828000009059906,0.7900000214576721,0.8299999833106995,0.8119999766349792,0.7910000085830688,0.7450000047683716,0.7960000038146973,0.75,0.7239999771118164,0.6110000014305115,0.5429999828338623,0.6159999966621399,0.5149999856948853,0.5860000252723694,0.5540000200271606,0.5199999809265137,0.593999981880188,0.49300000071525574,0.5630000233650208,0.5260000228881836,0.6880000233650208,0.6100000143051147,0.6959999799728394,0.6190000176429749,0.7089999914169312,0.7799999713897705,0.7139999866485596,0.6769999861717224,0.5929999947547913,0.5199999809265137,0.41600000858306885,0.4909999966621399,0.4580000042915344,0.5329999923706055,0.4970000088214874,0.460999995470047,0.5419999957084656,0.46700000762939453,0.38100001215934753,0.5109999775886536,0.42800000309944153,0.5149999856948853,0.6539999842643738,0.5680000185966492,0.48100000619888306,0.42899999022483826,0.48399999737739563,0.36500000953674316,0.2619999945163727,0.3100000023841858,0.2150000035762787,0.29499998688697815,0.4860000014305115,0.3409999907016754,0.41100001335144043,0.4090000092983246,0.20600000023841858,0.11299999803304672,0.24699999392032623,0.5019999742507935,0.3790000081062317,0.6430000066757202,0.8859999775886536,0.9539999961853027,0.9990000128746033,0.9959999918937683],\"yaxis\":\"y\",\"type\":\"scatter\"}],                        {\"template\":{\"data\":{\"bar\":[{\"error_x\":{\"color\":\"#2a3f5f\"},\"error_y\":{\"color\":\"#2a3f5f\"},\"marker\":{\"line\":{\"color\":\"#E5ECF6\",\"width\":0.5},\"pattern\":{\"fillmode\":\"overlay\",\"size\":10,\"solidity\":0.2}},\"type\":\"bar\"}],\"barpolar\":[{\"marker\":{\"line\":{\"color\":\"#E5ECF6\",\"width\":0.5},\"pattern\":{\"fillmode\":\"overlay\",\"size\":10,\"solidity\":0.2}},\"type\":\"barpolar\"}],\"carpet\":[{\"aaxis\":{\"endlinecolor\":\"#2a3f5f\",\"gridcolor\":\"white\",\"linecolor\":\"white\",\"minorgridcolor\":\"white\",\"startlinecolor\":\"#2a3f5f\"},\"baxis\":{\"endlinecolor\":\"#2a3f5f\",\"gridcolor\":\"white\",\"linecolor\":\"white\",\"minorgridcolor\":\"white\",\"startlinecolor\":\"#2a3f5f\"},\"type\":\"carpet\"}],\"choropleth\":[{\"colorbar\":{\"outlinewidth\":0,\"ticks\":\"\"},\"type\":\"choropleth\"}],\"contour\":[{\"colorbar\":{\"outlinewidth\":0,\"ticks\":\"\"},\"colorscale\":[[0.0,\"#0d0887\"],[0.1111111111111111,\"#46039f\"],[0.2222222222222222,\"#7201a8\"],[0.3333333333333333,\"#9c179e\"],[0.4444444444444444,\"#bd3786\"],[0.5555555555555556,\"#d8576b\"],[0.6666666666666666,\"#ed7953\"],[0.7777777777777778,\"#fb9f3a\"],[0.8888888888888888,\"#fdca26\"],[1.0,\"#f0f921\"]],\"type\":\"contour\"}],\"contourcarpet\":[{\"colorbar\":{\"outlinewidth\":0,\"ticks\":\"\"},\"type\":\"contourcarpet\"}],\"heatmap\":[{\"colorbar\":{\"outlinewidth\":0,\"ticks\":\"\"},\"colorscale\":[[0.0,\"#0d0887\"],[0.1111111111111111,\"#46039f\"],[0.2222222222222222,\"#7201a8\"],[0.3333333333333333,\"#9c179e\"],[0.4444444444444444,\"#bd3786\"],[0.5555555555555556,\"#d8576b\"],[0.6666666666666666,\"#ed7953\"],[0.7777777777777778,\"#fb9f3a\"],[0.8888888888888888,\"#fdca26\"],[1.0,\"#f0f921\"]],\"type\":\"heatmap\"}],\"heatmapgl\":[{\"colorbar\":{\"outlinewidth\":0,\"ticks\":\"\"},\"colorscale\":[[0.0,\"#0d0887\"],[0.1111111111111111,\"#46039f\"],[0.2222222222222222,\"#7201a8\"],[0.3333333333333333,\"#9c179e\"],[0.4444444444444444,\"#bd3786\"],[0.5555555555555556,\"#d8576b\"],[0.6666666666666666,\"#ed7953\"],[0.7777777777777778,\"#fb9f3a\"],[0.8888888888888888,\"#fdca26\"],[1.0,\"#f0f921\"]],\"type\":\"heatmapgl\"}],\"histogram\":[{\"marker\":{\"pattern\":{\"fillmode\":\"overlay\",\"size\":10,\"solidity\":0.2}},\"type\":\"histogram\"}],\"histogram2d\":[{\"colorbar\":{\"outlinewidth\":0,\"ticks\":\"\"},\"colorscale\":[[0.0,\"#0d0887\"],[0.1111111111111111,\"#46039f\"],[0.2222222222222222,\"#7201a8\"],[0.3333333333333333,\"#9c179e\"],[0.4444444444444444,\"#bd3786\"],[0.5555555555555556,\"#d8576b\"],[0.6666666666666666,\"#ed7953\"],[0.7777777777777778,\"#fb9f3a\"],[0.8888888888888888,\"#fdca26\"],[1.0,\"#f0f921\"]],\"type\":\"histogram2d\"}],\"histogram2dcontour\":[{\"colorbar\":{\"outlinewidth\":0,\"ticks\":\"\"},\"colorscale\":[[0.0,\"#0d0887\"],[0.1111111111111111,\"#46039f\"],[0.2222222222222222,\"#7201a8\"],[0.3333333333333333,\"#9c179e\"],[0.4444444444444444,\"#bd3786\"],[0.5555555555555556,\"#d8576b\"],[0.6666666666666666,\"#ed7953\"],[0.7777777777777778,\"#fb9f3a\"],[0.8888888888888888,\"#fdca26\"],[1.0,\"#f0f921\"]],\"type\":\"histogram2dcontour\"}],\"mesh3d\":[{\"colorbar\":{\"outlinewidth\":0,\"ticks\":\"\"},\"type\":\"mesh3d\"}],\"parcoords\":[{\"line\":{\"colorbar\":{\"outlinewidth\":0,\"ticks\":\"\"}},\"type\":\"parcoords\"}],\"pie\":[{\"automargin\":true,\"type\":\"pie\"}],\"scatter\":[{\"marker\":{\"colorbar\":{\"outlinewidth\":0,\"ticks\":\"\"}},\"type\":\"scatter\"}],\"scatter3d\":[{\"line\":{\"colorbar\":{\"outlinewidth\":0,\"ticks\":\"\"}},\"marker\":{\"colorbar\":{\"outlinewidth\":0,\"ticks\":\"\"}},\"type\":\"scatter3d\"}],\"scattercarpet\":[{\"marker\":{\"colorbar\":{\"outlinewidth\":0,\"ticks\":\"\"}},\"type\":\"scattercarpet\"}],\"scattergeo\":[{\"marker\":{\"colorbar\":{\"outlinewidth\":0,\"ticks\":\"\"}},\"type\":\"scattergeo\"}],\"scattergl\":[{\"marker\":{\"colorbar\":{\"outlinewidth\":0,\"ticks\":\"\"}},\"type\":\"scattergl\"}],\"scattermapbox\":[{\"marker\":{\"colorbar\":{\"outlinewidth\":0,\"ticks\":\"\"}},\"type\":\"scattermapbox\"}],\"scatterpolar\":[{\"marker\":{\"colorbar\":{\"outlinewidth\":0,\"ticks\":\"\"}},\"type\":\"scatterpolar\"}],\"scatterpolargl\":[{\"marker\":{\"colorbar\":{\"outlinewidth\":0,\"ticks\":\"\"}},\"type\":\"scatterpolargl\"}],\"scatterternary\":[{\"marker\":{\"colorbar\":{\"outlinewidth\":0,\"ticks\":\"\"}},\"type\":\"scatterternary\"}],\"surface\":[{\"colorbar\":{\"outlinewidth\":0,\"ticks\":\"\"},\"colorscale\":[[0.0,\"#0d0887\"],[0.1111111111111111,\"#46039f\"],[0.2222222222222222,\"#7201a8\"],[0.3333333333333333,\"#9c179e\"],[0.4444444444444444,\"#bd3786\"],[0.5555555555555556,\"#d8576b\"],[0.6666666666666666,\"#ed7953\"],[0.7777777777777778,\"#fb9f3a\"],[0.8888888888888888,\"#fdca26\"],[1.0,\"#f0f921\"]],\"type\":\"surface\"}],\"table\":[{\"cells\":{\"fill\":{\"color\":\"#EBF0F8\"},\"line\":{\"color\":\"white\"}},\"header\":{\"fill\":{\"color\":\"#C8D4E3\"},\"line\":{\"color\":\"white\"}},\"type\":\"table\"}]},\"layout\":{\"annotationdefaults\":{\"arrowcolor\":\"#2a3f5f\",\"arrowhead\":0,\"arrowwidth\":1},\"autotypenumbers\":\"strict\",\"coloraxis\":{\"colorbar\":{\"outlinewidth\":0,\"ticks\":\"\"}},\"colorscale\":{\"diverging\":[[0,\"#8e0152\"],[0.1,\"#c51b7d\"],[0.2,\"#de77ae\"],[0.3,\"#f1b6da\"],[0.4,\"#fde0ef\"],[0.5,\"#f7f7f7\"],[0.6,\"#e6f5d0\"],[0.7,\"#b8e186\"],[0.8,\"#7fbc41\"],[0.9,\"#4d9221\"],[1,\"#276419\"]],\"sequential\":[[0.0,\"#0d0887\"],[0.1111111111111111,\"#46039f\"],[0.2222222222222222,\"#7201a8\"],[0.3333333333333333,\"#9c179e\"],[0.4444444444444444,\"#bd3786\"],[0.5555555555555556,\"#d8576b\"],[0.6666666666666666,\"#ed7953\"],[0.7777777777777778,\"#fb9f3a\"],[0.8888888888888888,\"#fdca26\"],[1.0,\"#f0f921\"]],\"sequentialminus\":[[0.0,\"#0d0887\"],[0.1111111111111111,\"#46039f\"],[0.2222222222222222,\"#7201a8\"],[0.3333333333333333,\"#9c179e\"],[0.4444444444444444,\"#bd3786\"],[0.5555555555555556,\"#d8576b\"],[0.6666666666666666,\"#ed7953\"],[0.7777777777777778,\"#fb9f3a\"],[0.8888888888888888,\"#fdca26\"],[1.0,\"#f0f921\"]]},\"colorway\":[\"#636efa\",\"#EF553B\",\"#00cc96\",\"#ab63fa\",\"#FFA15A\",\"#19d3f3\",\"#FF6692\",\"#B6E880\",\"#FF97FF\",\"#FECB52\"],\"font\":{\"color\":\"#2a3f5f\"},\"geo\":{\"bgcolor\":\"white\",\"lakecolor\":\"white\",\"landcolor\":\"#E5ECF6\",\"showlakes\":true,\"showland\":true,\"subunitcolor\":\"white\"},\"hoverlabel\":{\"align\":\"left\"},\"hovermode\":\"closest\",\"mapbox\":{\"style\":\"light\"},\"paper_bgcolor\":\"white\",\"plot_bgcolor\":\"#E5ECF6\",\"polar\":{\"angularaxis\":{\"gridcolor\":\"white\",\"linecolor\":\"white\",\"ticks\":\"\"},\"bgcolor\":\"#E5ECF6\",\"radialaxis\":{\"gridcolor\":\"white\",\"linecolor\":\"white\",\"ticks\":\"\"}},\"scene\":{\"xaxis\":{\"backgroundcolor\":\"#E5ECF6\",\"gridcolor\":\"white\",\"gridwidth\":2,\"linecolor\":\"white\",\"showbackground\":true,\"ticks\":\"\",\"zerolinecolor\":\"white\"},\"yaxis\":{\"backgroundcolor\":\"#E5ECF6\",\"gridcolor\":\"white\",\"gridwidth\":2,\"linecolor\":\"white\",\"showbackground\":true,\"ticks\":\"\",\"zerolinecolor\":\"white\"},\"zaxis\":{\"backgroundcolor\":\"#E5ECF6\",\"gridcolor\":\"white\",\"gridwidth\":2,\"linecolor\":\"white\",\"showbackground\":true,\"ticks\":\"\",\"zerolinecolor\":\"white\"}},\"shapedefaults\":{\"line\":{\"color\":\"#2a3f5f\"}},\"ternary\":{\"aaxis\":{\"gridcolor\":\"white\",\"linecolor\":\"white\",\"ticks\":\"\"},\"baxis\":{\"gridcolor\":\"white\",\"linecolor\":\"white\",\"ticks\":\"\"},\"bgcolor\":\"#E5ECF6\",\"caxis\":{\"gridcolor\":\"white\",\"linecolor\":\"white\",\"ticks\":\"\"}},\"title\":{\"x\":0.05},\"xaxis\":{\"automargin\":true,\"gridcolor\":\"white\",\"linecolor\":\"white\",\"ticks\":\"\",\"title\":{\"standoff\":15},\"zerolinecolor\":\"white\",\"zerolinewidth\":2},\"yaxis\":{\"automargin\":true,\"gridcolor\":\"white\",\"linecolor\":\"white\",\"ticks\":\"\",\"title\":{\"standoff\":15},\"zerolinecolor\":\"white\",\"zerolinewidth\":2}}},\"coloraxis\":{\"colorbar\":{\"title\":{\"text\":\"DET Lead\"}},\"cmin\":-6,\"cmid\":0,\"cmax\":15,\"colorscale\":[[0.0,\"rgb(103,0,31)\"],[0.1,\"rgb(178,24,43)\"],[0.2,\"rgb(214,96,77)\"],[0.3,\"rgb(244,165,130)\"],[0.4,\"rgb(253,219,199)\"],[0.5,\"rgb(247,247,247)\"],[0.6,\"rgb(209,229,240)\"],[0.7,\"rgb(146,197,222)\"],[0.8,\"rgb(67,147,195)\"],[0.9,\"rgb(33,102,172)\"],[1.0,\"rgb(5,48,97)\"]]},\"xaxis\":{\"title\":{\"text\":\"Time\"},\"range\":[-3,51],\"tickmode\":\"linear\",\"tick0\":0,\"dtick\":12},\"yaxis\":{\"title\":{\"text\":\"DET Win Prob.\"},\"range\":[-0.05,1.05],\"tickmode\":\"linear\",\"tick0\":0,\"dtick\":0.1},\"width\":1000,\"height\":600,\"title\":{\"text\":\"DET In Game Win Probability - IND @ DET (2022-03-04)\"},\"shapes\":[{\"line\":{\"color\":\"gray\",\"dash\":\"dash\",\"width\":0.75},\"type\":\"line\",\"x0\":-1000,\"x1\":1000,\"y0\":0.5,\"y1\":0.5}]},                        {\"responsive\": true}                    ).then(function(){\n",
       "                            \n",
       "var gd = document.getElementById('05a2df1f-957c-4e6e-8b6c-31a2cb4091a9');\n",
       "var x = new MutationObserver(function (mutations, observer) {{\n",
       "        var display = window.getComputedStyle(gd).display;\n",
       "        if (!display || display === 'none') {{\n",
       "            console.log([gd, 'removed!']);\n",
       "            Plotly.purge(gd);\n",
       "            observer.disconnect();\n",
       "        }}\n",
       "}});\n",
       "\n",
       "// Listen for the removal of the full notebook cells\n",
       "var notebookContainer = gd.closest('#notebook-container');\n",
       "if (notebookContainer) {{\n",
       "    x.observe(notebookContainer, {childList: true});\n",
       "}}\n",
       "\n",
       "// Listen for the clearing of the current output cell\n",
       "var outputEl = gd.closest('.output');\n",
       "if (outputEl) {{\n",
       "    x.observe(outputEl, {childList: true});\n",
       "}}\n",
       "\n",
       "                        })                };                });            </script>        </div>"
      ]
     },
     "metadata": {},
     "output_type": "display_data"
    }
   ],
   "source": [
    "## Visualize\n",
    "min_lead, max_lead = winner_lead.min(), winner_lead.max()\n",
    "modeled_line = px.line(x=game_sbs['time'], y=winner_probs, color_discrete_sequence=[\"gray\"])\n",
    "modeled_scatter = px.scatter(game_sbs, x='time', y=winner_probs, color=winner_lead, hover_data={'formatted_time': True})\n",
    "fig = go.Figure(data=modeled_line.data + modeled_scatter.data)\n",
    "fig.update_coloraxes(colorbar_title=f\"{winner} Lead\", cmin=min_lead, cmid=0, cmax=max_lead, colorscale=\"RdBu\")\n",
    "fig.update_traces(marker={'size': 8, 'line_width': 1, 'opacity': .75})\n",
    "fig.update_traces(hovertemplate='Time: %{customdata.0} <br>' + winner + ' Win Prob: %{y} <br>' + winner + ' Lead: %{marker.color}')\n",
    "fig.update_xaxes(title_text=\"Time\", range=(-3, 51))\n",
    "fig.update_yaxes(title_text=f\"{winner} Win Prob.\", range=(-.05, 1.05))\n",
    "fig.update_layout(width=1000, height=600)\n",
    "fig.update_layout(title=f\"{winner} In Game Win Probability - {vis} @ {home} ({game_date})\",)\n",
    "fig.update_layout(xaxis = {'tickmode': 'linear', 'tick0': 0, 'dtick': 12})\n",
    "fig.update_layout(yaxis = {'tickmode': 'linear', 'tick0': 0, 'dtick': .1})\n",
    "fig.add_shape(type='line', x0=-1000, x1=1000, y0=0.5, y1=0.5, line_color='gray', line_dash='dash', line_width=0.75)\n",
    "fig.show()\n"
   ]
  },
  {
   "cell_type": "code",
   "execution_count": 268,
   "id": "248e0eac-a5bf-490a-aaec-2a9ccb27c98f",
   "metadata": {},
   "outputs": [
    {
     "data": {
      "application/vnd.plotly.v1+json": {
       "config": {
        "plotlyServerURL": "https://plot.ly"
       },
       "data": [
        {
         "line": {
          "color": "cornflowerblue"
         },
         "mode": "lines",
         "type": "scatter",
         "x": [
          0,
          0.27,
          0.83,
          1.2,
          1.6,
          2,
          2.18,
          2.52,
          2.87,
          3.05,
          3.65,
          3.92,
          4.17,
          4.58,
          4.85,
          5.42,
          5.6,
          5.9,
          6.48,
          6.75,
          6.93,
          7.15,
          7.83,
          8.12,
          8.33,
          8.33,
          8.92,
          9.22,
          9.62,
          10.33,
          10.7,
          10.85,
          11.53,
          11.72,
          12,
          12.3,
          12.75,
          13.2,
          13.65,
          14.1,
          14.38,
          15.28,
          15.58,
          15.82,
          16,
          16,
          16.35,
          16.57,
          16.83,
          16.97,
          16.97,
          17.93,
          18.15,
          18.77,
          20.02,
          20.12,
          20.78,
          21.03,
          21.85,
          22.92,
          23.43,
          23.78,
          24.23,
          25.03,
          25.27,
          25.27,
          25.93,
          26.65,
          26.98,
          27.83,
          28.65,
          29,
          29.35,
          29.72,
          30.23,
          30.97,
          31.28,
          32.15,
          32.73,
          33.1,
          33.28,
          33.28,
          34.22,
          34.42,
          35.02,
          35.4,
          35.47,
          36,
          36.53,
          37.23,
          37.83,
          37.97,
          38.88,
          39.18,
          39.85,
          39.85,
          40.48,
          41.97,
          42.17,
          43.42,
          43.42,
          43.85,
          44.73,
          45.08,
          45.4,
          46.33,
          46.57,
          46.85,
          47.68,
          47.68,
          47.83,
          47.83
         ],
         "y": [
          0.45100000500679016,
          0.4129999876022339,
          0.38100001215934753,
          0.41100001335144043,
          0.3790000081062317,
          0.3659999966621399,
          0.3919999897480011,
          0.42899999022483826,
          0.48899999260902405,
          0.4490000009536743,
          0.40799999237060547,
          0.42800000309944153,
          0.3889999985694885,
          0.4480000138282776,
          0.48899999260902405,
          0.5450000166893005,
          0.48899999260902405,
          0.5210000276565552,
          0.6019999980926514,
          0.5460000038146973,
          0.6029999852180481,
          0.5460000038146973,
          0.6039999723434448,
          0.5220000147819519,
          0.5460000038146973,
          0.5730000138282776,
          0.6050000190734863,
          0.671999990940094,
          0.7609999775886536,
          0.7099999785423279,
          0.765999972820282,
          0.6790000200271606,
          0.6119999885559082,
          0.6830000281333923,
          0.6140000224113464,
          0.7179999947547913,
          0.6159999966621399,
          0.6890000104904175,
          0.777999997138977,
          0.8379999995231628,
          0.781000018119812,
          0.8420000076293945,
          0.8059999942779541,
          0.843999981880188,
          0.8080000281333923,
          0.7870000004768372,
          0.828000009059906,
          0.7900000214576721,
          0.8299999833106995,
          0.8119999766349792,
          0.7910000085830688,
          0.7450000047683716,
          0.7960000038146973,
          0.75,
          0.7239999771118164,
          0.6110000014305115,
          0.5429999828338623,
          0.6159999966621399,
          0.5149999856948853,
          0.5860000252723694,
          0.5540000200271606,
          0.5199999809265137,
          0.593999981880188,
          0.49300000071525574,
          0.5630000233650208,
          0.5260000228881836,
          0.6880000233650208,
          0.6100000143051147,
          0.6959999799728394,
          0.6190000176429749,
          0.7089999914169312,
          0.7799999713897705,
          0.7139999866485596,
          0.6769999861717224,
          0.5929999947547913,
          0.5199999809265137,
          0.41600000858306885,
          0.4909999966621399,
          0.4580000042915344,
          0.5329999923706055,
          0.4970000088214874,
          0.460999995470047,
          0.5419999957084656,
          0.46700000762939453,
          0.38100001215934753,
          0.5109999775886536,
          0.42800000309944153,
          0.5149999856948853,
          0.6539999842643738,
          0.5680000185966492,
          0.48100000619888306,
          0.42899999022483826,
          0.48399999737739563,
          0.36500000953674316,
          0.2619999945163727,
          0.3100000023841858,
          0.2150000035762787,
          0.29499998688697815,
          0.4860000014305115,
          0.3409999907016754,
          0.41100001335144043,
          0.4090000092983246,
          0.20600000023841858,
          0.11299999803304672,
          0.24699999392032623,
          0.5019999742507935,
          0.3790000081062317,
          0.6430000066757202,
          0.8859999775886536,
          0.9539999961853027,
          0.9990000128746033,
          0.9959999918937683
         ]
        },
        {
         "customdata": [
          [
           "Q1 0:0",
           0
          ],
          [
           "Q1 0:16",
           -2
          ],
          [
           "Q1 0:49",
           -4
          ],
          [
           "Q1 1:11",
           -2
          ],
          [
           "Q1 1:36",
           -4
          ],
          [
           "Q1 2:0",
           -5
          ],
          [
           "Q1 2:10",
           -3
          ],
          [
           "Q1 2:31",
           -1
          ],
          [
           "Q1 2:52",
           2
          ],
          [
           "Q1 3:2",
           0
          ],
          [
           "Q1 3:38",
           -2
          ],
          [
           "Q1 3:55",
           -1
          ],
          [
           "Q1 4:10",
           -3
          ],
          [
           "Q1 4:34",
           0
          ],
          [
           "Q1 4:50",
           2
          ],
          [
           "Q1 5:25",
           5
          ],
          [
           "Q1 5:35",
           2
          ],
          [
           "Q1 5:54",
           4
          ],
          [
           "Q1 6:28",
           7
          ],
          [
           "Q1 6:45",
           5
          ],
          [
           "Q1 6:55",
           7
          ],
          [
           "Q1 7:9",
           5
          ],
          [
           "Q1 7:49",
           7
          ],
          [
           "Q1 8:7",
           4
          ],
          [
           "Q1 8:19",
           5
          ],
          [
           "Q1 8:19",
           6
          ],
          [
           "Q1 8:55",
           7
          ],
          [
           "Q1 9:13",
           9
          ],
          [
           "Q1 9:37",
           12
          ],
          [
           "Q1 10:19",
           10
          ],
          [
           "Q1 10:41",
           12
          ],
          [
           "Q1 10:50",
           9
          ],
          [
           "Q1 11:31",
           7
          ],
          [
           "Q1 11:43",
           9
          ],
          [
           "Q2 0:0",
           7
          ],
          [
           "Q2 0:18",
           10
          ],
          [
           "Q2 0:45",
           7
          ],
          [
           "Q2 1:11",
           9
          ],
          [
           "Q2 1:39",
           12
          ],
          [
           "Q2 2:5",
           15
          ],
          [
           "Q2 2:22",
           12
          ],
          [
           "Q2 3:16",
           15
          ],
          [
           "Q2 3:34",
           13
          ],
          [
           "Q2 3:49",
           15
          ],
          [
           "Q2 4:0",
           13
          ],
          [
           "Q2 4:0",
           12
          ],
          [
           "Q2 4:21",
           14
          ],
          [
           "Q2 4:34",
           12
          ],
          [
           "Q2 4:49",
           14
          ],
          [
           "Q2 4:58",
           13
          ],
          [
           "Q2 4:58",
           12
          ],
          [
           "Q2 5:55",
           10
          ],
          [
           "Q2 6:8",
           12
          ],
          [
           "Q2 6:46",
           10
          ],
          [
           "Q2 8:1",
           9
          ],
          [
           "Q2 8:7",
           6
          ],
          [
           "Q2 8:46",
           4
          ],
          [
           "Q2 9:1",
           6
          ],
          [
           "Q2 9:51",
           3
          ],
          [
           "Q2 10:55",
           5
          ],
          [
           "Q2 11:25",
           4
          ],
          [
           "Q2 11:46",
           3
          ],
          [
           "Q3 0:13",
           5
          ],
          [
           "Q3 1:1",
           2
          ],
          [
           "Q3 1:16",
           4
          ],
          [
           "Q3 1:16",
           3
          ],
          [
           "Q3 1:55",
           7
          ],
          [
           "Q3 2:38",
           5
          ],
          [
           "Q3 2:58",
           7
          ],
          [
           "Q3 3:49",
           5
          ],
          [
           "Q3 4:38",
           7
          ],
          [
           "Q3 5:0",
           9
          ],
          [
           "Q3 5:21",
           7
          ],
          [
           "Q3 5:43",
           6
          ],
          [
           "Q3 6:13",
           4
          ],
          [
           "Q3 6:58",
           2
          ],
          [
           "Q3 7:16",
           -1
          ],
          [
           "Q3 8:8",
           1
          ],
          [
           "Q3 8:43",
           0
          ],
          [
           "Q3 9:6",
           2
          ],
          [
           "Q3 9:16",
           1
          ],
          [
           "Q3 9:16",
           0
          ],
          [
           "Q3 10:13",
           2
          ],
          [
           "Q3 10:25",
           0
          ],
          [
           "Q3 11:1",
           -2
          ],
          [
           "Q3 11:23",
           1
          ],
          [
           "Q3 11:28",
           -1
          ],
          [
           "Q4 0:0",
           1
          ],
          [
           "Q4 0:31",
           4
          ],
          [
           "Q4 1:13",
           2
          ],
          [
           "Q4 1:49",
           0
          ],
          [
           "Q4 1:58",
           -1
          ],
          [
           "Q4 2:52",
           0
          ],
          [
           "Q4 3:10",
           -2
          ],
          [
           "Q4 3:51",
           -4
          ],
          [
           "Q4 3:51",
           -3
          ],
          [
           "Q4 4:28",
           -5
          ],
          [
           "Q4 5:58",
           -3
          ],
          [
           "Q4 6:10",
           0
          ],
          [
           "Q4 7:25",
           -2
          ],
          [
           "Q4 7:25",
           -1
          ],
          [
           "Q4 7:51",
           -1
          ],
          [
           "Q4 8:43",
           -4
          ],
          [
           "Q4 9:4",
           -6
          ],
          [
           "Q4 9:23",
           -3
          ],
          [
           "Q4 10:19",
           0
          ],
          [
           "Q4 10:34",
           -1
          ],
          [
           "Q4 10:51",
           1
          ],
          [
           "Q4 11:40",
           2
          ],
          [
           "Q4 11:40",
           3
          ],
          [
           "Q4 11:49",
           5
          ],
          [
           "Q4 11:49",
           4
          ]
         ],
         "hoverlabel": {
          "bgcolor": "cornflowerblue"
         },
         "hovertemplate": "Time: %{customdata[0]} <br>DET Modeled Win Prob: %{y} <br>DET Lead: %{customdata[1]} <extra></extra>",
         "marker": {
          "cmid": 0,
          "color": [
           0,
           -2,
           -4,
           -2,
           -4,
           -5,
           -3,
           -1,
           2,
           0,
           -2,
           -1,
           -3,
           0,
           2,
           5,
           2,
           4,
           7,
           5,
           7,
           5,
           7,
           4,
           5,
           6,
           7,
           9,
           12,
           10,
           12,
           9,
           7,
           9,
           7,
           10,
           7,
           9,
           12,
           15,
           12,
           15,
           13,
           15,
           13,
           12,
           14,
           12,
           14,
           13,
           12,
           10,
           12,
           10,
           9,
           6,
           4,
           6,
           3,
           5,
           4,
           3,
           5,
           2,
           4,
           3,
           7,
           5,
           7,
           5,
           7,
           9,
           7,
           6,
           4,
           2,
           -1,
           1,
           0,
           2,
           1,
           0,
           2,
           0,
           -2,
           1,
           -1,
           1,
           4,
           2,
           0,
           -1,
           0,
           -2,
           -4,
           -3,
           -5,
           -3,
           0,
           -2,
           -1,
           -1,
           -4,
           -6,
           -3,
           0,
           -1,
           1,
           2,
           3,
           5,
           4
          ],
          "colorscale": [
           [
            0,
            "rgb(103,0,31)"
           ],
           [
            0.1,
            "rgb(178,24,43)"
           ],
           [
            0.2,
            "rgb(214,96,77)"
           ],
           [
            0.3,
            "rgb(244,165,130)"
           ],
           [
            0.4,
            "rgb(253,219,199)"
           ],
           [
            0.5,
            "rgb(247,247,247)"
           ],
           [
            0.6,
            "rgb(209,229,240)"
           ],
           [
            0.7,
            "rgb(146,197,222)"
           ],
           [
            0.8,
            "rgb(67,147,195)"
           ],
           [
            0.9,
            "rgb(33,102,172)"
           ],
           [
            1,
            "rgb(5,48,97)"
           ]
          ],
          "line": {
           "width": 1
          },
          "opacity": 1,
          "size": 4
         },
         "mode": "markers",
         "type": "scatter",
         "x": [
          0,
          0.27,
          0.83,
          1.2,
          1.6,
          2,
          2.18,
          2.52,
          2.87,
          3.05,
          3.65,
          3.92,
          4.17,
          4.58,
          4.85,
          5.42,
          5.6,
          5.9,
          6.48,
          6.75,
          6.93,
          7.15,
          7.83,
          8.12,
          8.33,
          8.33,
          8.92,
          9.22,
          9.62,
          10.33,
          10.7,
          10.85,
          11.53,
          11.72,
          12,
          12.3,
          12.75,
          13.2,
          13.65,
          14.1,
          14.38,
          15.28,
          15.58,
          15.82,
          16,
          16,
          16.35,
          16.57,
          16.83,
          16.97,
          16.97,
          17.93,
          18.15,
          18.77,
          20.02,
          20.12,
          20.78,
          21.03,
          21.85,
          22.92,
          23.43,
          23.78,
          24.23,
          25.03,
          25.27,
          25.27,
          25.93,
          26.65,
          26.98,
          27.83,
          28.65,
          29,
          29.35,
          29.72,
          30.23,
          30.97,
          31.28,
          32.15,
          32.73,
          33.1,
          33.28,
          33.28,
          34.22,
          34.42,
          35.02,
          35.4,
          35.47,
          36,
          36.53,
          37.23,
          37.83,
          37.97,
          38.88,
          39.18,
          39.85,
          39.85,
          40.48,
          41.97,
          42.17,
          43.42,
          43.42,
          43.85,
          44.73,
          45.08,
          45.4,
          46.33,
          46.57,
          46.85,
          47.68,
          47.68,
          47.83,
          47.83
         ],
         "y": [
          0.45100000500679016,
          0.4129999876022339,
          0.38100001215934753,
          0.41100001335144043,
          0.3790000081062317,
          0.3659999966621399,
          0.3919999897480011,
          0.42899999022483826,
          0.48899999260902405,
          0.4490000009536743,
          0.40799999237060547,
          0.42800000309944153,
          0.3889999985694885,
          0.4480000138282776,
          0.48899999260902405,
          0.5450000166893005,
          0.48899999260902405,
          0.5210000276565552,
          0.6019999980926514,
          0.5460000038146973,
          0.6029999852180481,
          0.5460000038146973,
          0.6039999723434448,
          0.5220000147819519,
          0.5460000038146973,
          0.5730000138282776,
          0.6050000190734863,
          0.671999990940094,
          0.7609999775886536,
          0.7099999785423279,
          0.765999972820282,
          0.6790000200271606,
          0.6119999885559082,
          0.6830000281333923,
          0.6140000224113464,
          0.7179999947547913,
          0.6159999966621399,
          0.6890000104904175,
          0.777999997138977,
          0.8379999995231628,
          0.781000018119812,
          0.8420000076293945,
          0.8059999942779541,
          0.843999981880188,
          0.8080000281333923,
          0.7870000004768372,
          0.828000009059906,
          0.7900000214576721,
          0.8299999833106995,
          0.8119999766349792,
          0.7910000085830688,
          0.7450000047683716,
          0.7960000038146973,
          0.75,
          0.7239999771118164,
          0.6110000014305115,
          0.5429999828338623,
          0.6159999966621399,
          0.5149999856948853,
          0.5860000252723694,
          0.5540000200271606,
          0.5199999809265137,
          0.593999981880188,
          0.49300000071525574,
          0.5630000233650208,
          0.5260000228881836,
          0.6880000233650208,
          0.6100000143051147,
          0.6959999799728394,
          0.6190000176429749,
          0.7089999914169312,
          0.7799999713897705,
          0.7139999866485596,
          0.6769999861717224,
          0.5929999947547913,
          0.5199999809265137,
          0.41600000858306885,
          0.4909999966621399,
          0.4580000042915344,
          0.5329999923706055,
          0.4970000088214874,
          0.460999995470047,
          0.5419999957084656,
          0.46700000762939453,
          0.38100001215934753,
          0.5109999775886536,
          0.42800000309944153,
          0.5149999856948853,
          0.6539999842643738,
          0.5680000185966492,
          0.48100000619888306,
          0.42899999022483826,
          0.48399999737739563,
          0.36500000953674316,
          0.2619999945163727,
          0.3100000023841858,
          0.2150000035762787,
          0.29499998688697815,
          0.4860000014305115,
          0.3409999907016754,
          0.41100001335144043,
          0.4090000092983246,
          0.20600000023841858,
          0.11299999803304672,
          0.24699999392032623,
          0.5019999742507935,
          0.3790000081062317,
          0.6430000066757202,
          0.8859999775886536,
          0.9539999961853027,
          0.9990000128746033,
          0.9959999918937683
         ]
        },
        {
         "line": {
          "color": "gray"
         },
         "mode": "lines",
         "type": "scatter",
         "x": [
          0.3000000000000007,
          0.6666666666666661,
          1.0500000000000007,
          1.3166666666666664,
          1.9666666666666668,
          2.0500000000000007,
          2.0500000000000007,
          2.1833333333333336,
          2.5666666666666664,
          3.116666666666667,
          3.4833333333333325,
          3.75,
          3.9499999999999993,
          4.166666666666667,
          4.633333333333334,
          4.933333333333334,
          4.933333333333334,
          4.933333333333334,
          5.4,
          5.933333333333334,
          6.15,
          6.8,
          7.083333333333333,
          7.216666666666667,
          7.816666666666666,
          8.283333333333333,
          8.283333333333333,
          8.516666666666666,
          8.8,
          8.816666666666666,
          9.266666666666666,
          9.266666666666666,
          9.266666666666666,
          9.266666666666666,
          9.283333333333333,
          9.633333333333333,
          10.283333333333333,
          10.816666666666666,
          11.05,
          11.183333333333334,
          11.516666666666667,
          12,
          12,
          12.283333333333333,
          12.916666666666666,
          13.233333333333333,
          13.65,
          14.05,
          14.05,
          14.05,
          14.05,
          14.75,
          14.833333333333334,
          15.4,
          15.9,
          16.05,
          16.46666666666667,
          17.03333333333333,
          17.03333333333333,
          17.28333333333333,
          17.71666666666667,
          18.3,
          18.866666666666667,
          18.816666666666666,
          19.066666666666666,
          19.45,
          19.53333333333333,
          19.9,
          20.083333333333336,
          20.21666666666667,
          20.833333333333336,
          21.35,
          21.866666666666667,
          22.28333333333333,
          22.583333333333336,
          23.1,
          23.483333333333334,
          23.483333333333334,
          23.55,
          23.833333333333336,
          23.833333333333336,
          24,
          24,
          24.016666666666666,
          24.616666666666667,
          25.133333333333333,
          25.316666666666666,
          25.433333333333334,
          25.766666666666666,
          26.28333333333333,
          26.333333333333336,
          27.1,
          27.566666666666666,
          27.75,
          28.25,
          28.666666666666668,
          29.016666666666666,
          29.016666666666666,
          29.35,
          29.6,
          29.8,
          29.883333333333333,
          30.083333333333332,
          30.46666666666667,
          30.45,
          31.166666666666668,
          31.4,
          31.4,
          31.4,
          31.933333333333334,
          32.56666666666666,
          32.766666666666666,
          32.766666666666666,
          32.81666666666666,
          33.333333333333336,
          33.333333333333336,
          33.6,
          34.13333333333333,
          34.333333333333336,
          34.766666666666666,
          35.46666666666667,
          35.7,
          36,
          36,
          36,
          36.03333333333333,
          36.53333333333333,
          36.75,
          37.11666666666667,
          37.6,
          37.833333333333336,
          38.06666666666666,
          38.06666666666666,
          38.583333333333336,
          38.8,
          39,
          39,
          39.55,
          39.9,
          39.9,
          40.016666666666666,
          40.56666666666666,
          40.56666666666666,
          40.65,
          40.7,
          41.13333333333333,
          41.2,
          41.68333333333334,
          42.016666666666666,
          42.25,
          42.81666666666666,
          43.35,
          43.53333333333333,
          43.53333333333333,
          43.93333333333334,
          44.03333333333333,
          44.03333333333333,
          44.06666666666666,
          44.333333333333336,
          44.46666666666667,
          45.18333333333334,
          45.833333333333336,
          46.25,
          46.28333333333333,
          46.28333333333333,
          46.5,
          46.5,
          46.75,
          47.25,
          47.63333333333333,
          47.666666666666664,
          47.666666666666664,
          47.666666666666664,
          47.833333333333336
         ],
         "y": [
          0.455,
          0.435,
          0.417,
          0.435,
          0.408,
          0.408,
          0.4,
          0.408,
          0.476,
          0.5,
          0.5,
          0.476,
          0.476,
          0.465,
          0.476,
          0.476,
          0.488,
          0.476,
          0.524,
          0.535,
          0.545,
          0.556,
          0.574,
          0.574,
          0.574,
          0.524,
          0.524,
          0.565,
          0.583,
          0.583,
          0.615,
          0.63,
          0.615,
          0.6,
          0.6,
          0.649,
          0.63,
          0.661,
          0.615,
          0.615,
          0.6,
          0.6,
          0.608,
          0.636,
          0.608,
          0.623,
          0.692,
          0.75,
          0.778,
          0.767,
          0.759,
          0.667,
          0.667,
          0.744,
          0.75,
          0.692,
          0.71,
          0.726,
          0.71,
          0.677,
          0.688,
          0.688,
          0.71,
          0.71,
          0.71,
          0.71,
          0.692,
          0.692,
          0.688,
          0.608,
          0.6,
          0.623,
          0.535,
          0.556,
          0.545,
          0.592,
          0.592,
          0.6,
          0.556,
          0.556,
          0.535,
          0.556,
          0.565,
          0.545,
          0.583,
          0.512,
          0.488,
          0.545,
          0.592,
          0.692,
          0.661,
          0.608,
          0.636,
          0.623,
          0.574,
          0.63,
          0.667,
          0.718,
          0.667,
          0.667,
          0.623,
          0.661,
          0.636,
          0.608,
          0.608,
          0.535,
          0.417,
          0.465,
          0.455,
          0.455,
          0.545,
          0.545,
          0.5,
          0.5,
          0.545,
          0.476,
          0.476,
          0.435,
          0.535,
          0.435,
          0.357,
          0.435,
          0.444,
          0.512,
          0.488,
          0.512,
          0.63,
          0.677,
          0.688,
          0.545,
          0.444,
          0.444,
          0.444,
          0.444,
          0.392,
          0.435,
          0.408,
          0.357,
          0.333,
          0.312,
          0.303,
          0.217,
          0.235,
          0.2,
          0.227,
          0.227,
          0.19,
          0.182,
          0.303,
          0.435,
          0.512,
          0.512,
          0.408,
          0.312,
          0.377,
          0.408,
          0.444,
          0.392,
          0.476,
          0.392,
          0.154,
          0.312,
          0.27,
          0.244,
          0.488,
          0.488,
          0.565,
          0.565,
          0.583,
          0.583,
          0.583,
          0.583,
          0.583,
          0.583
         ]
        },
        {
         "customdata": [
          [
           "Q1 0:18",
           -2
          ],
          [
           "Q1 0:39",
           -2
          ],
          [
           "Q1 1:3",
           -4
          ],
          [
           "Q1 1:18",
           -2
          ],
          [
           "Q1 1:58",
           -4
          ],
          [
           "Q1 2:3",
           -4
          ],
          [
           "Q1 2:3",
           -4
          ],
          [
           "Q1 2:11",
           -5
          ],
          [
           "Q1 2:33",
           -1
          ],
          [
           "Q1 3:7",
           0
          ],
          [
           "Q1 3:28",
           0
          ],
          [
           "Q1 3:45",
           -2
          ],
          [
           "Q1 3:56",
           -2
          ],
          [
           "Q1 4:10",
           -3
          ],
          [
           "Q1 4:38",
           0
          ],
          [
           "Q1 4:56",
           2
          ],
          [
           "Q1 4:56",
           1
          ],
          [
           "Q1 4:56",
           1
          ],
          [
           "Q1 5:24",
           5
          ],
          [
           "Q1 5:56",
           4
          ],
          [
           "Q1 6:9",
           4
          ],
          [
           "Q1 6:47",
           8
          ],
          [
           "Q1 7:4",
           6
          ],
          [
           "Q1 7:13",
           6
          ],
          [
           "Q1 7:48",
           7
          ],
          [
           "Q1 8:16",
           4
          ],
          [
           "Q1 8:16",
           5
          ],
          [
           "Q1 8:30",
           6
          ],
          [
           "Q1 8:48",
           6
          ],
          [
           "Q1 8:48",
           7
          ],
          [
           "Q1 9:15",
           10
          ],
          [
           "Q1 9:15",
           9
          ],
          [
           "Q1 9:15",
           9
          ],
          [
           "Q1 9:15",
           9
          ],
          [
           "Q1 9:16",
           9
          ],
          [
           "Q1 9:37",
           12
          ],
          [
           "Q1 10:16",
           10
          ],
          [
           "Q1 10:48",
           9
          ],
          [
           "Q1 11:3",
           9
          ],
          [
           "Q1 11:11",
           9
          ],
          [
           "Q1 11:31",
           7
          ],
          [
           "Q2 0:0",
           7
          ],
          [
           "Q2 0:0",
           7
          ],
          [
           "Q2 0:16",
           10
          ],
          [
           "Q2 0:54",
           7
          ],
          [
           "Q2 1:13",
           9
          ],
          [
           "Q2 1:39",
           12
          ],
          [
           "Q2 2:3",
           15
          ],
          [
           "Q2 2:3",
           15
          ],
          [
           "Q2 2:3",
           15
          ],
          [
           "Q2 2:3",
           15
          ],
          [
           "Q2 2:45",
           12
          ],
          [
           "Q2 2:50",
           12
          ],
          [
           "Q2 3:24",
           15
          ],
          [
           "Q2 3:54",
           15
          ],
          [
           "Q2 4:3",
           12
          ],
          [
           "Q2 4:28",
           14
          ],
          [
           "Q2 5:1",
           14
          ],
          [
           "Q2 5:1",
           14
          ],
          [
           "Q2 5:16",
           12
          ],
          [
           "Q2 5:43",
           12
          ],
          [
           "Q2 6:18",
           12
          ],
          [
           "Q2 6:52",
           10
          ],
          [
           "Q2 6:48",
           10
          ],
          [
           "Q2 7:3",
           10
          ],
          [
           "Q2 7:26",
           10
          ],
          [
           "Q2 7:31",
           10
          ],
          [
           "Q2 7:53",
           10
          ],
          [
           "Q2 8:5",
           10
          ],
          [
           "Q2 8:13",
           6
          ],
          [
           "Q2 8:50",
           4
          ],
          [
           "Q2 9:21",
           6
          ],
          [
           "Q2 9:52",
           3
          ],
          [
           "Q2 10:16",
           3
          ],
          [
           "Q2 10:35",
           3
          ],
          [
           "Q2 11:6",
           5
          ],
          [
           "Q2 11:29",
           5
          ],
          [
           "Q2 11:29",
           5
          ],
          [
           "Q2 11:33",
           4
          ],
          [
           "Q2 11:50",
           4
          ],
          [
           "Q2 11:50",
           3
          ],
          [
           "Q3 0:0",
           3
          ],
          [
           "Q3 0:0",
           3
          ],
          [
           "Q3 0:0",
           3
          ],
          [
           "Q3 0:37",
           5
          ],
          [
           "Q3 1:7",
           2
          ],
          [
           "Q3 1:18",
           2
          ],
          [
           "Q3 1:26",
           4
          ],
          [
           "Q3 1:45",
           4
          ],
          [
           "Q3 2:16",
           7
          ],
          [
           "Q3 2:20",
           7
          ],
          [
           "Q3 3:6",
           7
          ],
          [
           "Q3 3:33",
           7
          ],
          [
           "Q3 3:45",
           7
          ],
          [
           "Q3 4:15",
           5
          ],
          [
           "Q3 4:40",
           7
          ],
          [
           "Q3 5:0",
           9
          ],
          [
           "Q3 5:0",
           9
          ],
          [
           "Q3 5:21",
           7
          ],
          [
           "Q3 5:36",
           7
          ],
          [
           "Q3 5:48",
           7
          ],
          [
           "Q3 5:52",
           6
          ],
          [
           "Q3 6:4",
           6
          ],
          [
           "Q3 6:28",
           4
          ],
          [
           "Q3 6:26",
           4
          ],
          [
           "Q3 7:10",
           2
          ],
          [
           "Q3 7:23",
           -1
          ],
          [
           "Q3 7:23",
           -1
          ],
          [
           "Q3 7:23",
           -1
          ],
          [
           "Q3 7:56",
           -1
          ],
          [
           "Q3 8:33",
           1
          ],
          [
           "Q3 8:45",
           1
          ],
          [
           "Q3 8:45",
           1
          ],
          [
           "Q3 8:48",
           0
          ],
          [
           "Q3 9:20",
           2
          ],
          [
           "Q3 9:20",
           0
          ],
          [
           "Q3 9:36",
           0
          ],
          [
           "Q3 10:7",
           0
          ],
          [
           "Q3 10:20",
           2
          ],
          [
           "Q3 10:45",
           0
          ],
          [
           "Q3 11:28",
           1
          ],
          [
           "Q3 11:42",
           -1
          ],
          [
           "Q4 0:0",
           1
          ],
          [
           "Q4 0:0",
           1
          ],
          [
           "Q4 0:0",
           1
          ],
          [
           "Q4 0:1",
           1
          ],
          [
           "Q4 0:31",
           4
          ],
          [
           "Q4 0:45",
           4
          ],
          [
           "Q4 1:7",
           2
          ],
          [
           "Q4 1:36",
           2
          ],
          [
           "Q4 1:50",
           0
          ],
          [
           "Q4 2:3",
           0
          ],
          [
           "Q4 2:3",
           -1
          ],
          [
           "Q4 2:35",
           -1
          ],
          [
           "Q4 2:47",
           -1
          ],
          [
           "Q4 3:0",
           -1
          ],
          [
           "Q4 3:0",
           0
          ],
          [
           "Q4 3:32",
           -2
          ],
          [
           "Q4 3:53",
           -2
          ],
          [
           "Q4 3:53",
           -3
          ],
          [
           "Q4 4:0",
           -4
          ],
          [
           "Q4 4:33",
           -4
          ],
          [
           "Q4 4:33",
           -5
          ],
          [
           "Q4 4:38",
           -5
          ],
          [
           "Q4 4:42",
           -5
          ],
          [
           "Q4 5:7",
           -5
          ],
          [
           "Q4 5:12",
           -5
          ],
          [
           "Q4 5:41",
           -5
          ],
          [
           "Q4 6:0",
           -3
          ],
          [
           "Q4 6:15",
           0
          ],
          [
           "Q4 6:48",
           0
          ],
          [
           "Q4 7:21",
           0
          ],
          [
           "Q4 7:31",
           0
          ],
          [
           "Q4 7:31",
           -2
          ],
          [
           "Q4 7:56",
           -2
          ],
          [
           "Q4 8:1",
           -2
          ],
          [
           "Q4 8:1",
           -1
          ],
          [
           "Q4 8:3",
           -1
          ],
          [
           "Q4 8:20",
           -1
          ],
          [
           "Q4 8:28",
           -1
          ],
          [
           "Q4 9:11",
           -6
          ],
          [
           "Q4 9:50",
           -3
          ],
          [
           "Q4 10:15",
           0
          ],
          [
           "Q4 10:16",
           0
          ],
          [
           "Q4 10:16",
           0
          ],
          [
           "Q4 10:30",
           0
          ],
          [
           "Q4 10:30",
           -1
          ],
          [
           "Q4 10:45",
           1
          ],
          [
           "Q4 11:15",
           1
          ],
          [
           "Q4 11:37",
           1
          ],
          [
           "Q4 11:39",
           1
          ],
          [
           "Q4 11:39",
           2
          ],
          [
           "Q4 11:39",
           3
          ],
          [
           "Q4 11:50",
           3
          ]
         ],
         "hoverlabel": {
          "bgcolor": "lightgray"
         },
         "hovertemplate": "Time: %{customdata[0]} <br>DET Implied Win Prob: %{y} <br>DET Lead: %{customdata[1]} <extra></extra>",
         "marker": {
          "cmid": 0,
          "color": [
           -2,
           -2,
           -4,
           -2,
           -4,
           -4,
           -4,
           -5,
           -1,
           0,
           0,
           -2,
           -2,
           -3,
           0,
           2,
           1,
           1,
           5,
           4,
           4,
           8,
           6,
           6,
           7,
           4,
           5,
           6,
           6,
           7,
           10,
           9,
           9,
           9,
           9,
           12,
           10,
           9,
           9,
           9,
           7,
           7,
           7,
           10,
           7,
           9,
           12,
           15,
           15,
           15,
           15,
           12,
           12,
           15,
           15,
           12,
           14,
           14,
           14,
           12,
           12,
           12,
           10,
           10,
           10,
           10,
           10,
           10,
           10,
           6,
           4,
           6,
           3,
           3,
           3,
           5,
           5,
           5,
           4,
           4,
           3,
           3,
           3,
           3,
           5,
           2,
           2,
           4,
           4,
           7,
           7,
           7,
           7,
           7,
           5,
           7,
           9,
           9,
           7,
           7,
           7,
           6,
           6,
           4,
           4,
           2,
           -1,
           -1,
           -1,
           -1,
           1,
           1,
           1,
           0,
           2,
           0,
           0,
           0,
           2,
           0,
           1,
           -1,
           1,
           1,
           1,
           1,
           4,
           4,
           2,
           2,
           0,
           0,
           -1,
           -1,
           -1,
           -1,
           0,
           -2,
           -2,
           -3,
           -4,
           -4,
           -5,
           -5,
           -5,
           -5,
           -5,
           -5,
           -3,
           0,
           0,
           0,
           0,
           -2,
           -2,
           -2,
           -1,
           -1,
           -1,
           -1,
           -6,
           -3,
           0,
           0,
           0,
           0,
           -1,
           1,
           1,
           1,
           1,
           2,
           3,
           3
          ],
          "colorbar": {
           "title": {
            "text": "DET Lead"
           }
          },
          "colorscale": [
           [
            0,
            "rgb(103,0,31)"
           ],
           [
            0.1,
            "rgb(178,24,43)"
           ],
           [
            0.2,
            "rgb(214,96,77)"
           ],
           [
            0.3,
            "rgb(244,165,130)"
           ],
           [
            0.4,
            "rgb(253,219,199)"
           ],
           [
            0.5,
            "rgb(247,247,247)"
           ],
           [
            0.6,
            "rgb(209,229,240)"
           ],
           [
            0.7,
            "rgb(146,197,222)"
           ],
           [
            0.8,
            "rgb(67,147,195)"
           ],
           [
            0.9,
            "rgb(33,102,172)"
           ],
           [
            1,
            "rgb(5,48,97)"
           ]
          ],
          "line": {
           "width": 1
          },
          "size": 4
         },
         "mode": "markers",
         "type": "scatter",
         "x": [
          0.3000000000000007,
          0.6666666666666661,
          1.0500000000000007,
          1.3166666666666664,
          1.9666666666666668,
          2.0500000000000007,
          2.0500000000000007,
          2.1833333333333336,
          2.5666666666666664,
          3.116666666666667,
          3.4833333333333325,
          3.75,
          3.9499999999999993,
          4.166666666666667,
          4.633333333333334,
          4.933333333333334,
          4.933333333333334,
          4.933333333333334,
          5.4,
          5.933333333333334,
          6.15,
          6.8,
          7.083333333333333,
          7.216666666666667,
          7.816666666666666,
          8.283333333333333,
          8.283333333333333,
          8.516666666666666,
          8.8,
          8.816666666666666,
          9.266666666666666,
          9.266666666666666,
          9.266666666666666,
          9.266666666666666,
          9.283333333333333,
          9.633333333333333,
          10.283333333333333,
          10.816666666666666,
          11.05,
          11.183333333333334,
          11.516666666666667,
          12,
          12,
          12.283333333333333,
          12.916666666666666,
          13.233333333333333,
          13.65,
          14.05,
          14.05,
          14.05,
          14.05,
          14.75,
          14.833333333333334,
          15.4,
          15.9,
          16.05,
          16.46666666666667,
          17.03333333333333,
          17.03333333333333,
          17.28333333333333,
          17.71666666666667,
          18.3,
          18.866666666666667,
          18.816666666666666,
          19.066666666666666,
          19.45,
          19.53333333333333,
          19.9,
          20.083333333333336,
          20.21666666666667,
          20.833333333333336,
          21.35,
          21.866666666666667,
          22.28333333333333,
          22.583333333333336,
          23.1,
          23.483333333333334,
          23.483333333333334,
          23.55,
          23.833333333333336,
          23.833333333333336,
          24,
          24,
          24.016666666666666,
          24.616666666666667,
          25.133333333333333,
          25.316666666666666,
          25.433333333333334,
          25.766666666666666,
          26.28333333333333,
          26.333333333333336,
          27.1,
          27.566666666666666,
          27.75,
          28.25,
          28.666666666666668,
          29.016666666666666,
          29.016666666666666,
          29.35,
          29.6,
          29.8,
          29.883333333333333,
          30.083333333333332,
          30.46666666666667,
          30.45,
          31.166666666666668,
          31.4,
          31.4,
          31.4,
          31.933333333333334,
          32.56666666666666,
          32.766666666666666,
          32.766666666666666,
          32.81666666666666,
          33.333333333333336,
          33.333333333333336,
          33.6,
          34.13333333333333,
          34.333333333333336,
          34.766666666666666,
          35.46666666666667,
          35.7,
          36,
          36,
          36,
          36.03333333333333,
          36.53333333333333,
          36.75,
          37.11666666666667,
          37.6,
          37.833333333333336,
          38.06666666666666,
          38.06666666666666,
          38.583333333333336,
          38.8,
          39,
          39,
          39.55,
          39.9,
          39.9,
          40.016666666666666,
          40.56666666666666,
          40.56666666666666,
          40.65,
          40.7,
          41.13333333333333,
          41.2,
          41.68333333333334,
          42.016666666666666,
          42.25,
          42.81666666666666,
          43.35,
          43.53333333333333,
          43.53333333333333,
          43.93333333333334,
          44.03333333333333,
          44.03333333333333,
          44.06666666666666,
          44.333333333333336,
          44.46666666666667,
          45.18333333333334,
          45.833333333333336,
          46.25,
          46.28333333333333,
          46.28333333333333,
          46.5,
          46.5,
          46.75,
          47.25,
          47.63333333333333,
          47.666666666666664,
          47.666666666666664,
          47.666666666666664,
          47.833333333333336
         ],
         "y": [
          0.455,
          0.435,
          0.417,
          0.435,
          0.408,
          0.408,
          0.4,
          0.408,
          0.476,
          0.5,
          0.5,
          0.476,
          0.476,
          0.465,
          0.476,
          0.476,
          0.488,
          0.476,
          0.524,
          0.535,
          0.545,
          0.556,
          0.574,
          0.574,
          0.574,
          0.524,
          0.524,
          0.565,
          0.583,
          0.583,
          0.615,
          0.63,
          0.615,
          0.6,
          0.6,
          0.649,
          0.63,
          0.661,
          0.615,
          0.615,
          0.6,
          0.6,
          0.608,
          0.636,
          0.608,
          0.623,
          0.692,
          0.75,
          0.778,
          0.767,
          0.759,
          0.667,
          0.667,
          0.744,
          0.75,
          0.692,
          0.71,
          0.726,
          0.71,
          0.677,
          0.688,
          0.688,
          0.71,
          0.71,
          0.71,
          0.71,
          0.692,
          0.692,
          0.688,
          0.608,
          0.6,
          0.623,
          0.535,
          0.556,
          0.545,
          0.592,
          0.592,
          0.6,
          0.556,
          0.556,
          0.535,
          0.556,
          0.565,
          0.545,
          0.583,
          0.512,
          0.488,
          0.545,
          0.592,
          0.692,
          0.661,
          0.608,
          0.636,
          0.623,
          0.574,
          0.63,
          0.667,
          0.718,
          0.667,
          0.667,
          0.623,
          0.661,
          0.636,
          0.608,
          0.608,
          0.535,
          0.417,
          0.465,
          0.455,
          0.455,
          0.545,
          0.545,
          0.5,
          0.5,
          0.545,
          0.476,
          0.476,
          0.435,
          0.535,
          0.435,
          0.357,
          0.435,
          0.444,
          0.512,
          0.488,
          0.512,
          0.63,
          0.677,
          0.688,
          0.545,
          0.444,
          0.444,
          0.444,
          0.444,
          0.392,
          0.435,
          0.408,
          0.357,
          0.333,
          0.312,
          0.303,
          0.217,
          0.235,
          0.2,
          0.227,
          0.227,
          0.19,
          0.182,
          0.303,
          0.435,
          0.512,
          0.512,
          0.408,
          0.312,
          0.377,
          0.408,
          0.444,
          0.392,
          0.476,
          0.392,
          0.154,
          0.312,
          0.27,
          0.244,
          0.488,
          0.488,
          0.565,
          0.565,
          0.583,
          0.583,
          0.583,
          0.583,
          0.583,
          0.583
         ]
        }
       ],
       "layout": {
        "height": 600,
        "shapes": [
         {
          "line": {
           "color": "gray",
           "dash": "dash",
           "width": 0.75
          },
          "type": "line",
          "x0": -1000,
          "x1": 1000,
          "y0": 0.5,
          "y1": 0.5
         }
        ],
        "showlegend": false,
        "template": {
         "data": {
          "bar": [
           {
            "error_x": {
             "color": "#2a3f5f"
            },
            "error_y": {
             "color": "#2a3f5f"
            },
            "marker": {
             "line": {
              "color": "#E5ECF6",
              "width": 0.5
             },
             "pattern": {
              "fillmode": "overlay",
              "size": 10,
              "solidity": 0.2
             }
            },
            "type": "bar"
           }
          ],
          "barpolar": [
           {
            "marker": {
             "line": {
              "color": "#E5ECF6",
              "width": 0.5
             },
             "pattern": {
              "fillmode": "overlay",
              "size": 10,
              "solidity": 0.2
             }
            },
            "type": "barpolar"
           }
          ],
          "carpet": [
           {
            "aaxis": {
             "endlinecolor": "#2a3f5f",
             "gridcolor": "white",
             "linecolor": "white",
             "minorgridcolor": "white",
             "startlinecolor": "#2a3f5f"
            },
            "baxis": {
             "endlinecolor": "#2a3f5f",
             "gridcolor": "white",
             "linecolor": "white",
             "minorgridcolor": "white",
             "startlinecolor": "#2a3f5f"
            },
            "type": "carpet"
           }
          ],
          "choropleth": [
           {
            "colorbar": {
             "outlinewidth": 0,
             "ticks": ""
            },
            "type": "choropleth"
           }
          ],
          "contour": [
           {
            "colorbar": {
             "outlinewidth": 0,
             "ticks": ""
            },
            "colorscale": [
             [
              0,
              "#0d0887"
             ],
             [
              0.1111111111111111,
              "#46039f"
             ],
             [
              0.2222222222222222,
              "#7201a8"
             ],
             [
              0.3333333333333333,
              "#9c179e"
             ],
             [
              0.4444444444444444,
              "#bd3786"
             ],
             [
              0.5555555555555556,
              "#d8576b"
             ],
             [
              0.6666666666666666,
              "#ed7953"
             ],
             [
              0.7777777777777778,
              "#fb9f3a"
             ],
             [
              0.8888888888888888,
              "#fdca26"
             ],
             [
              1,
              "#f0f921"
             ]
            ],
            "type": "contour"
           }
          ],
          "contourcarpet": [
           {
            "colorbar": {
             "outlinewidth": 0,
             "ticks": ""
            },
            "type": "contourcarpet"
           }
          ],
          "heatmap": [
           {
            "colorbar": {
             "outlinewidth": 0,
             "ticks": ""
            },
            "colorscale": [
             [
              0,
              "#0d0887"
             ],
             [
              0.1111111111111111,
              "#46039f"
             ],
             [
              0.2222222222222222,
              "#7201a8"
             ],
             [
              0.3333333333333333,
              "#9c179e"
             ],
             [
              0.4444444444444444,
              "#bd3786"
             ],
             [
              0.5555555555555556,
              "#d8576b"
             ],
             [
              0.6666666666666666,
              "#ed7953"
             ],
             [
              0.7777777777777778,
              "#fb9f3a"
             ],
             [
              0.8888888888888888,
              "#fdca26"
             ],
             [
              1,
              "#f0f921"
             ]
            ],
            "type": "heatmap"
           }
          ],
          "heatmapgl": [
           {
            "colorbar": {
             "outlinewidth": 0,
             "ticks": ""
            },
            "colorscale": [
             [
              0,
              "#0d0887"
             ],
             [
              0.1111111111111111,
              "#46039f"
             ],
             [
              0.2222222222222222,
              "#7201a8"
             ],
             [
              0.3333333333333333,
              "#9c179e"
             ],
             [
              0.4444444444444444,
              "#bd3786"
             ],
             [
              0.5555555555555556,
              "#d8576b"
             ],
             [
              0.6666666666666666,
              "#ed7953"
             ],
             [
              0.7777777777777778,
              "#fb9f3a"
             ],
             [
              0.8888888888888888,
              "#fdca26"
             ],
             [
              1,
              "#f0f921"
             ]
            ],
            "type": "heatmapgl"
           }
          ],
          "histogram": [
           {
            "marker": {
             "pattern": {
              "fillmode": "overlay",
              "size": 10,
              "solidity": 0.2
             }
            },
            "type": "histogram"
           }
          ],
          "histogram2d": [
           {
            "colorbar": {
             "outlinewidth": 0,
             "ticks": ""
            },
            "colorscale": [
             [
              0,
              "#0d0887"
             ],
             [
              0.1111111111111111,
              "#46039f"
             ],
             [
              0.2222222222222222,
              "#7201a8"
             ],
             [
              0.3333333333333333,
              "#9c179e"
             ],
             [
              0.4444444444444444,
              "#bd3786"
             ],
             [
              0.5555555555555556,
              "#d8576b"
             ],
             [
              0.6666666666666666,
              "#ed7953"
             ],
             [
              0.7777777777777778,
              "#fb9f3a"
             ],
             [
              0.8888888888888888,
              "#fdca26"
             ],
             [
              1,
              "#f0f921"
             ]
            ],
            "type": "histogram2d"
           }
          ],
          "histogram2dcontour": [
           {
            "colorbar": {
             "outlinewidth": 0,
             "ticks": ""
            },
            "colorscale": [
             [
              0,
              "#0d0887"
             ],
             [
              0.1111111111111111,
              "#46039f"
             ],
             [
              0.2222222222222222,
              "#7201a8"
             ],
             [
              0.3333333333333333,
              "#9c179e"
             ],
             [
              0.4444444444444444,
              "#bd3786"
             ],
             [
              0.5555555555555556,
              "#d8576b"
             ],
             [
              0.6666666666666666,
              "#ed7953"
             ],
             [
              0.7777777777777778,
              "#fb9f3a"
             ],
             [
              0.8888888888888888,
              "#fdca26"
             ],
             [
              1,
              "#f0f921"
             ]
            ],
            "type": "histogram2dcontour"
           }
          ],
          "mesh3d": [
           {
            "colorbar": {
             "outlinewidth": 0,
             "ticks": ""
            },
            "type": "mesh3d"
           }
          ],
          "parcoords": [
           {
            "line": {
             "colorbar": {
              "outlinewidth": 0,
              "ticks": ""
             }
            },
            "type": "parcoords"
           }
          ],
          "pie": [
           {
            "automargin": true,
            "type": "pie"
           }
          ],
          "scatter": [
           {
            "marker": {
             "colorbar": {
              "outlinewidth": 0,
              "ticks": ""
             }
            },
            "type": "scatter"
           }
          ],
          "scatter3d": [
           {
            "line": {
             "colorbar": {
              "outlinewidth": 0,
              "ticks": ""
             }
            },
            "marker": {
             "colorbar": {
              "outlinewidth": 0,
              "ticks": ""
             }
            },
            "type": "scatter3d"
           }
          ],
          "scattercarpet": [
           {
            "marker": {
             "colorbar": {
              "outlinewidth": 0,
              "ticks": ""
             }
            },
            "type": "scattercarpet"
           }
          ],
          "scattergeo": [
           {
            "marker": {
             "colorbar": {
              "outlinewidth": 0,
              "ticks": ""
             }
            },
            "type": "scattergeo"
           }
          ],
          "scattergl": [
           {
            "marker": {
             "colorbar": {
              "outlinewidth": 0,
              "ticks": ""
             }
            },
            "type": "scattergl"
           }
          ],
          "scattermapbox": [
           {
            "marker": {
             "colorbar": {
              "outlinewidth": 0,
              "ticks": ""
             }
            },
            "type": "scattermapbox"
           }
          ],
          "scatterpolar": [
           {
            "marker": {
             "colorbar": {
              "outlinewidth": 0,
              "ticks": ""
             }
            },
            "type": "scatterpolar"
           }
          ],
          "scatterpolargl": [
           {
            "marker": {
             "colorbar": {
              "outlinewidth": 0,
              "ticks": ""
             }
            },
            "type": "scatterpolargl"
           }
          ],
          "scatterternary": [
           {
            "marker": {
             "colorbar": {
              "outlinewidth": 0,
              "ticks": ""
             }
            },
            "type": "scatterternary"
           }
          ],
          "surface": [
           {
            "colorbar": {
             "outlinewidth": 0,
             "ticks": ""
            },
            "colorscale": [
             [
              0,
              "#0d0887"
             ],
             [
              0.1111111111111111,
              "#46039f"
             ],
             [
              0.2222222222222222,
              "#7201a8"
             ],
             [
              0.3333333333333333,
              "#9c179e"
             ],
             [
              0.4444444444444444,
              "#bd3786"
             ],
             [
              0.5555555555555556,
              "#d8576b"
             ],
             [
              0.6666666666666666,
              "#ed7953"
             ],
             [
              0.7777777777777778,
              "#fb9f3a"
             ],
             [
              0.8888888888888888,
              "#fdca26"
             ],
             [
              1,
              "#f0f921"
             ]
            ],
            "type": "surface"
           }
          ],
          "table": [
           {
            "cells": {
             "fill": {
              "color": "#EBF0F8"
             },
             "line": {
              "color": "white"
             }
            },
            "header": {
             "fill": {
              "color": "#C8D4E3"
             },
             "line": {
              "color": "white"
             }
            },
            "type": "table"
           }
          ]
         },
         "layout": {
          "annotationdefaults": {
           "arrowcolor": "#2a3f5f",
           "arrowhead": 0,
           "arrowwidth": 1
          },
          "autotypenumbers": "strict",
          "coloraxis": {
           "colorbar": {
            "outlinewidth": 0,
            "ticks": ""
           }
          },
          "colorscale": {
           "diverging": [
            [
             0,
             "#8e0152"
            ],
            [
             0.1,
             "#c51b7d"
            ],
            [
             0.2,
             "#de77ae"
            ],
            [
             0.3,
             "#f1b6da"
            ],
            [
             0.4,
             "#fde0ef"
            ],
            [
             0.5,
             "#f7f7f7"
            ],
            [
             0.6,
             "#e6f5d0"
            ],
            [
             0.7,
             "#b8e186"
            ],
            [
             0.8,
             "#7fbc41"
            ],
            [
             0.9,
             "#4d9221"
            ],
            [
             1,
             "#276419"
            ]
           ],
           "sequential": [
            [
             0,
             "#0d0887"
            ],
            [
             0.1111111111111111,
             "#46039f"
            ],
            [
             0.2222222222222222,
             "#7201a8"
            ],
            [
             0.3333333333333333,
             "#9c179e"
            ],
            [
             0.4444444444444444,
             "#bd3786"
            ],
            [
             0.5555555555555556,
             "#d8576b"
            ],
            [
             0.6666666666666666,
             "#ed7953"
            ],
            [
             0.7777777777777778,
             "#fb9f3a"
            ],
            [
             0.8888888888888888,
             "#fdca26"
            ],
            [
             1,
             "#f0f921"
            ]
           ],
           "sequentialminus": [
            [
             0,
             "#0d0887"
            ],
            [
             0.1111111111111111,
             "#46039f"
            ],
            [
             0.2222222222222222,
             "#7201a8"
            ],
            [
             0.3333333333333333,
             "#9c179e"
            ],
            [
             0.4444444444444444,
             "#bd3786"
            ],
            [
             0.5555555555555556,
             "#d8576b"
            ],
            [
             0.6666666666666666,
             "#ed7953"
            ],
            [
             0.7777777777777778,
             "#fb9f3a"
            ],
            [
             0.8888888888888888,
             "#fdca26"
            ],
            [
             1,
             "#f0f921"
            ]
           ]
          },
          "colorway": [
           "#636efa",
           "#EF553B",
           "#00cc96",
           "#ab63fa",
           "#FFA15A",
           "#19d3f3",
           "#FF6692",
           "#B6E880",
           "#FF97FF",
           "#FECB52"
          ],
          "font": {
           "color": "#2a3f5f"
          },
          "geo": {
           "bgcolor": "white",
           "lakecolor": "white",
           "landcolor": "#E5ECF6",
           "showlakes": true,
           "showland": true,
           "subunitcolor": "white"
          },
          "hoverlabel": {
           "align": "left"
          },
          "hovermode": "closest",
          "mapbox": {
           "style": "light"
          },
          "paper_bgcolor": "white",
          "plot_bgcolor": "#E5ECF6",
          "polar": {
           "angularaxis": {
            "gridcolor": "white",
            "linecolor": "white",
            "ticks": ""
           },
           "bgcolor": "#E5ECF6",
           "radialaxis": {
            "gridcolor": "white",
            "linecolor": "white",
            "ticks": ""
           }
          },
          "scene": {
           "xaxis": {
            "backgroundcolor": "#E5ECF6",
            "gridcolor": "white",
            "gridwidth": 2,
            "linecolor": "white",
            "showbackground": true,
            "ticks": "",
            "zerolinecolor": "white"
           },
           "yaxis": {
            "backgroundcolor": "#E5ECF6",
            "gridcolor": "white",
            "gridwidth": 2,
            "linecolor": "white",
            "showbackground": true,
            "ticks": "",
            "zerolinecolor": "white"
           },
           "zaxis": {
            "backgroundcolor": "#E5ECF6",
            "gridcolor": "white",
            "gridwidth": 2,
            "linecolor": "white",
            "showbackground": true,
            "ticks": "",
            "zerolinecolor": "white"
           }
          },
          "shapedefaults": {
           "line": {
            "color": "#2a3f5f"
           }
          },
          "ternary": {
           "aaxis": {
            "gridcolor": "white",
            "linecolor": "white",
            "ticks": ""
           },
           "baxis": {
            "gridcolor": "white",
            "linecolor": "white",
            "ticks": ""
           },
           "bgcolor": "#E5ECF6",
           "caxis": {
            "gridcolor": "white",
            "linecolor": "white",
            "ticks": ""
           }
          },
          "title": {
           "x": 0.05
          },
          "xaxis": {
           "automargin": true,
           "gridcolor": "white",
           "linecolor": "white",
           "ticks": "",
           "title": {
            "standoff": 15
           },
           "zerolinecolor": "white",
           "zerolinewidth": 2
          },
          "yaxis": {
           "automargin": true,
           "gridcolor": "white",
           "linecolor": "white",
           "ticks": "",
           "title": {
            "standoff": 15
           },
           "zerolinecolor": "white",
           "zerolinewidth": 2
          }
         }
        },
        "title": {
         "text": "DET In Game Win Probability - IND @ DET (2022-03-04)"
        },
        "width": 1000,
        "xaxis": {
         "dtick": 12,
         "range": [
          -3,
          51
         ],
         "tick0": 0,
         "tickmode": "linear",
         "title": {
          "text": "Time"
         },
         "type": "linear"
        },
        "yaxis": {
         "dtick": 0.1,
         "range": [
          -0.05,
          1.05
         ],
         "tick0": 0,
         "tickmode": "linear",
         "title": {
          "text": "DET Win Prob."
         },
         "type": "linear"
        }
       }
      },
      "image/png": "[encoded data removed]",
      "text/html": [
       "<div>                            <div id=\"658b921b-5116-4289-a336-7b9cafbf96de\" class=\"plotly-graph-div\" style=\"height:600px; width:1000px;\"></div>            <script type=\"text/javascript\">                require([\"plotly\"], function(Plotly) {                    window.PLOTLYENV=window.PLOTLYENV || {};                                    if (document.getElementById(\"658b921b-5116-4289-a336-7b9cafbf96de\")) {                    Plotly.newPlot(                        \"658b921b-5116-4289-a336-7b9cafbf96de\",                        [{\"line\":{\"color\":\"cornflowerblue\"},\"mode\":\"lines\",\"x\":[0.0,0.27,0.83,1.2,1.6,2.0,2.18,2.52,2.87,3.05,3.65,3.92,4.17,4.58,4.85,5.42,5.6,5.9,6.48,6.75,6.93,7.15,7.83,8.12,8.33,8.33,8.92,9.22,9.62,10.33,10.7,10.85,11.53,11.72,12.0,12.3,12.75,13.2,13.65,14.1,14.38,15.28,15.58,15.82,16.0,16.0,16.35,16.57,16.83,16.97,16.97,17.93,18.15,18.77,20.02,20.12,20.78,21.03,21.85,22.92,23.43,23.78,24.23,25.03,25.27,25.27,25.93,26.65,26.98,27.83,28.65,29.0,29.35,29.72,30.23,30.97,31.28,32.15,32.73,33.1,33.28,33.28,34.22,34.42,35.02,35.4,35.47,36.0,36.53,37.23,37.83,37.97,38.88,39.18,39.85,39.85,40.48,41.97,42.17,43.42,43.42,43.85,44.73,45.08,45.4,46.33,46.57,46.85,47.68,47.68,47.83,47.83],\"y\":[0.45100000500679016,0.4129999876022339,0.38100001215934753,0.41100001335144043,0.3790000081062317,0.3659999966621399,0.3919999897480011,0.42899999022483826,0.48899999260902405,0.4490000009536743,0.40799999237060547,0.42800000309944153,0.3889999985694885,0.4480000138282776,0.48899999260902405,0.5450000166893005,0.48899999260902405,0.5210000276565552,0.6019999980926514,0.5460000038146973,0.6029999852180481,0.5460000038146973,0.6039999723434448,0.5220000147819519,0.5460000038146973,0.5730000138282776,0.6050000190734863,0.671999990940094,0.7609999775886536,0.7099999785423279,0.765999972820282,0.6790000200271606,0.6119999885559082,0.6830000281333923,0.6140000224113464,0.7179999947547913,0.6159999966621399,0.6890000104904175,0.777999997138977,0.8379999995231628,0.781000018119812,0.8420000076293945,0.8059999942779541,0.843999981880188,0.8080000281333923,0.7870000004768372,0.828000009059906,0.7900000214576721,0.8299999833106995,0.8119999766349792,0.7910000085830688,0.7450000047683716,0.7960000038146973,0.75,0.7239999771118164,0.6110000014305115,0.5429999828338623,0.6159999966621399,0.5149999856948853,0.5860000252723694,0.5540000200271606,0.5199999809265137,0.593999981880188,0.49300000071525574,0.5630000233650208,0.5260000228881836,0.6880000233650208,0.6100000143051147,0.6959999799728394,0.6190000176429749,0.7089999914169312,0.7799999713897705,0.7139999866485596,0.6769999861717224,0.5929999947547913,0.5199999809265137,0.41600000858306885,0.4909999966621399,0.4580000042915344,0.5329999923706055,0.4970000088214874,0.460999995470047,0.5419999957084656,0.46700000762939453,0.38100001215934753,0.5109999775886536,0.42800000309944153,0.5149999856948853,0.6539999842643738,0.5680000185966492,0.48100000619888306,0.42899999022483826,0.48399999737739563,0.36500000953674316,0.2619999945163727,0.3100000023841858,0.2150000035762787,0.29499998688697815,0.4860000014305115,0.3409999907016754,0.41100001335144043,0.4090000092983246,0.20600000023841858,0.11299999803304672,0.24699999392032623,0.5019999742507935,0.3790000081062317,0.6430000066757202,0.8859999775886536,0.9539999961853027,0.9990000128746033,0.9959999918937683],\"type\":\"scatter\"},{\"customdata\":[[\"Q1 0:0\",0],[\"Q1 0:16\",-2],[\"Q1 0:49\",-4],[\"Q1 1:11\",-2],[\"Q1 1:36\",-4],[\"Q1 2:0\",-5],[\"Q1 2:10\",-3],[\"Q1 2:31\",-1],[\"Q1 2:52\",2],[\"Q1 3:2\",0],[\"Q1 3:38\",-2],[\"Q1 3:55\",-1],[\"Q1 4:10\",-3],[\"Q1 4:34\",0],[\"Q1 4:50\",2],[\"Q1 5:25\",5],[\"Q1 5:35\",2],[\"Q1 5:54\",4],[\"Q1 6:28\",7],[\"Q1 6:45\",5],[\"Q1 6:55\",7],[\"Q1 7:9\",5],[\"Q1 7:49\",7],[\"Q1 8:7\",4],[\"Q1 8:19\",5],[\"Q1 8:19\",6],[\"Q1 8:55\",7],[\"Q1 9:13\",9],[\"Q1 9:37\",12],[\"Q1 10:19\",10],[\"Q1 10:41\",12],[\"Q1 10:50\",9],[\"Q1 11:31\",7],[\"Q1 11:43\",9],[\"Q2 0:0\",7],[\"Q2 0:18\",10],[\"Q2 0:45\",7],[\"Q2 1:11\",9],[\"Q2 1:39\",12],[\"Q2 2:5\",15],[\"Q2 2:22\",12],[\"Q2 3:16\",15],[\"Q2 3:34\",13],[\"Q2 3:49\",15],[\"Q2 4:0\",13],[\"Q2 4:0\",12],[\"Q2 4:21\",14],[\"Q2 4:34\",12],[\"Q2 4:49\",14],[\"Q2 4:58\",13],[\"Q2 4:58\",12],[\"Q2 5:55\",10],[\"Q2 6:8\",12],[\"Q2 6:46\",10],[\"Q2 8:1\",9],[\"Q2 8:7\",6],[\"Q2 8:46\",4],[\"Q2 9:1\",6],[\"Q2 9:51\",3],[\"Q2 10:55\",5],[\"Q2 11:25\",4],[\"Q2 11:46\",3],[\"Q3 0:13\",5],[\"Q3 1:1\",2],[\"Q3 1:16\",4],[\"Q3 1:16\",3],[\"Q3 1:55\",7],[\"Q3 2:38\",5],[\"Q3 2:58\",7],[\"Q3 3:49\",5],[\"Q3 4:38\",7],[\"Q3 5:0\",9],[\"Q3 5:21\",7],[\"Q3 5:43\",6],[\"Q3 6:13\",4],[\"Q3 6:58\",2],[\"Q3 7:16\",-1],[\"Q3 8:8\",1],[\"Q3 8:43\",0],[\"Q3 9:6\",2],[\"Q3 9:16\",1],[\"Q3 9:16\",0],[\"Q3 10:13\",2],[\"Q3 10:25\",0],[\"Q3 11:1\",-2],[\"Q3 11:23\",1],[\"Q3 11:28\",-1],[\"Q4 0:0\",1],[\"Q4 0:31\",4],[\"Q4 1:13\",2],[\"Q4 1:49\",0],[\"Q4 1:58\",-1],[\"Q4 2:52\",0],[\"Q4 3:10\",-2],[\"Q4 3:51\",-4],[\"Q4 3:51\",-3],[\"Q4 4:28\",-5],[\"Q4 5:58\",-3],[\"Q4 6:10\",0],[\"Q4 7:25\",-2],[\"Q4 7:25\",-1],[\"Q4 7:51\",-1],[\"Q4 8:43\",-4],[\"Q4 9:4\",-6],[\"Q4 9:23\",-3],[\"Q4 10:19\",0],[\"Q4 10:34\",-1],[\"Q4 10:51\",1],[\"Q4 11:40\",2],[\"Q4 11:40\",3],[\"Q4 11:49\",5],[\"Q4 11:49\",4]],\"hoverlabel\":{\"bgcolor\":\"cornflowerblue\"},\"hovertemplate\":\"Time: %{customdata[0]} <br>DET Modeled Win Prob: %{y} <br>DET Lead: %{customdata[1]} <extra></extra>\",\"marker\":{\"cmid\":0,\"color\":[0,-2,-4,-2,-4,-5,-3,-1,2,0,-2,-1,-3,0,2,5,2,4,7,5,7,5,7,4,5,6,7,9,12,10,12,9,7,9,7,10,7,9,12,15,12,15,13,15,13,12,14,12,14,13,12,10,12,10,9,6,4,6,3,5,4,3,5,2,4,3,7,5,7,5,7,9,7,6,4,2,-1,1,0,2,1,0,2,0,-2,1,-1,1,4,2,0,-1,0,-2,-4,-3,-5,-3,0,-2,-1,-1,-4,-6,-3,0,-1,1,2,3,5,4],\"colorscale\":[[0.0,\"rgb(103,0,31)\"],[0.1,\"rgb(178,24,43)\"],[0.2,\"rgb(214,96,77)\"],[0.3,\"rgb(244,165,130)\"],[0.4,\"rgb(253,219,199)\"],[0.5,\"rgb(247,247,247)\"],[0.6,\"rgb(209,229,240)\"],[0.7,\"rgb(146,197,222)\"],[0.8,\"rgb(67,147,195)\"],[0.9,\"rgb(33,102,172)\"],[1.0,\"rgb(5,48,97)\"]],\"line\":{\"width\":1},\"opacity\":1,\"size\":4},\"mode\":\"markers\",\"x\":[0.0,0.27,0.83,1.2,1.6,2.0,2.18,2.52,2.87,3.05,3.65,3.92,4.17,4.58,4.85,5.42,5.6,5.9,6.48,6.75,6.93,7.15,7.83,8.12,8.33,8.33,8.92,9.22,9.62,10.33,10.7,10.85,11.53,11.72,12.0,12.3,12.75,13.2,13.65,14.1,14.38,15.28,15.58,15.82,16.0,16.0,16.35,16.57,16.83,16.97,16.97,17.93,18.15,18.77,20.02,20.12,20.78,21.03,21.85,22.92,23.43,23.78,24.23,25.03,25.27,25.27,25.93,26.65,26.98,27.83,28.65,29.0,29.35,29.72,30.23,30.97,31.28,32.15,32.73,33.1,33.28,33.28,34.22,34.42,35.02,35.4,35.47,36.0,36.53,37.23,37.83,37.97,38.88,39.18,39.85,39.85,40.48,41.97,42.17,43.42,43.42,43.85,44.73,45.08,45.4,46.33,46.57,46.85,47.68,47.68,47.83,47.83],\"y\":[0.45100000500679016,0.4129999876022339,0.38100001215934753,0.41100001335144043,0.3790000081062317,0.3659999966621399,0.3919999897480011,0.42899999022483826,0.48899999260902405,0.4490000009536743,0.40799999237060547,0.42800000309944153,0.3889999985694885,0.4480000138282776,0.48899999260902405,0.5450000166893005,0.48899999260902405,0.5210000276565552,0.6019999980926514,0.5460000038146973,0.6029999852180481,0.5460000038146973,0.6039999723434448,0.5220000147819519,0.5460000038146973,0.5730000138282776,0.6050000190734863,0.671999990940094,0.7609999775886536,0.7099999785423279,0.765999972820282,0.6790000200271606,0.6119999885559082,0.6830000281333923,0.6140000224113464,0.7179999947547913,0.6159999966621399,0.6890000104904175,0.777999997138977,0.8379999995231628,0.781000018119812,0.8420000076293945,0.8059999942779541,0.843999981880188,0.8080000281333923,0.7870000004768372,0.828000009059906,0.7900000214576721,0.8299999833106995,0.8119999766349792,0.7910000085830688,0.7450000047683716,0.7960000038146973,0.75,0.7239999771118164,0.6110000014305115,0.5429999828338623,0.6159999966621399,0.5149999856948853,0.5860000252723694,0.5540000200271606,0.5199999809265137,0.593999981880188,0.49300000071525574,0.5630000233650208,0.5260000228881836,0.6880000233650208,0.6100000143051147,0.6959999799728394,0.6190000176429749,0.7089999914169312,0.7799999713897705,0.7139999866485596,0.6769999861717224,0.5929999947547913,0.5199999809265137,0.41600000858306885,0.4909999966621399,0.4580000042915344,0.5329999923706055,0.4970000088214874,0.460999995470047,0.5419999957084656,0.46700000762939453,0.38100001215934753,0.5109999775886536,0.42800000309944153,0.5149999856948853,0.6539999842643738,0.5680000185966492,0.48100000619888306,0.42899999022483826,0.48399999737739563,0.36500000953674316,0.2619999945163727,0.3100000023841858,0.2150000035762787,0.29499998688697815,0.4860000014305115,0.3409999907016754,0.41100001335144043,0.4090000092983246,0.20600000023841858,0.11299999803304672,0.24699999392032623,0.5019999742507935,0.3790000081062317,0.6430000066757202,0.8859999775886536,0.9539999961853027,0.9990000128746033,0.9959999918937683],\"type\":\"scatter\"},{\"line\":{\"color\":\"gray\"},\"mode\":\"lines\",\"x\":[0.3000000000000007,0.6666666666666661,1.0500000000000007,1.3166666666666664,1.9666666666666668,2.0500000000000007,2.0500000000000007,2.1833333333333336,2.5666666666666664,3.116666666666667,3.4833333333333325,3.75,3.9499999999999993,4.166666666666667,4.633333333333334,4.933333333333334,4.933333333333334,4.933333333333334,5.4,5.933333333333334,6.15,6.8,7.083333333333333,7.216666666666667,7.816666666666666,8.283333333333333,8.283333333333333,8.516666666666666,8.8,8.816666666666666,9.266666666666666,9.266666666666666,9.266666666666666,9.266666666666666,9.283333333333333,9.633333333333333,10.283333333333333,10.816666666666666,11.05,11.183333333333334,11.516666666666667,12.0,12.0,12.283333333333333,12.916666666666666,13.233333333333333,13.65,14.05,14.05,14.05,14.05,14.75,14.833333333333334,15.4,15.9,16.05,16.46666666666667,17.03333333333333,17.03333333333333,17.28333333333333,17.71666666666667,18.3,18.866666666666667,18.816666666666666,19.066666666666666,19.45,19.53333333333333,19.9,20.083333333333336,20.21666666666667,20.833333333333336,21.35,21.866666666666667,22.28333333333333,22.583333333333336,23.1,23.483333333333334,23.483333333333334,23.55,23.833333333333336,23.833333333333336,24.0,24.0,24.016666666666666,24.616666666666667,25.133333333333333,25.316666666666666,25.433333333333334,25.766666666666666,26.28333333333333,26.333333333333336,27.1,27.566666666666666,27.75,28.25,28.666666666666668,29.016666666666666,29.016666666666666,29.35,29.6,29.8,29.883333333333333,30.083333333333332,30.46666666666667,30.45,31.166666666666668,31.4,31.4,31.4,31.933333333333334,32.56666666666666,32.766666666666666,32.766666666666666,32.81666666666666,33.333333333333336,33.333333333333336,33.6,34.13333333333333,34.333333333333336,34.766666666666666,35.46666666666667,35.7,36.0,36.0,36.0,36.03333333333333,36.53333333333333,36.75,37.11666666666667,37.6,37.833333333333336,38.06666666666666,38.06666666666666,38.583333333333336,38.8,39.0,39.0,39.55,39.9,39.9,40.016666666666666,40.56666666666666,40.56666666666666,40.65,40.7,41.13333333333333,41.2,41.68333333333334,42.016666666666666,42.25,42.81666666666666,43.35,43.53333333333333,43.53333333333333,43.93333333333334,44.03333333333333,44.03333333333333,44.06666666666666,44.333333333333336,44.46666666666667,45.18333333333334,45.833333333333336,46.25,46.28333333333333,46.28333333333333,46.5,46.5,46.75,47.25,47.63333333333333,47.666666666666664,47.666666666666664,47.666666666666664,47.833333333333336],\"y\":[0.455,0.435,0.417,0.435,0.408,0.408,0.4,0.408,0.476,0.5,0.5,0.476,0.476,0.465,0.476,0.476,0.488,0.476,0.524,0.535,0.545,0.556,0.574,0.574,0.574,0.524,0.524,0.565,0.583,0.583,0.615,0.63,0.615,0.6,0.6,0.649,0.63,0.661,0.615,0.615,0.6,0.6,0.608,0.636,0.608,0.623,0.692,0.75,0.778,0.767,0.759,0.667,0.667,0.744,0.75,0.692,0.71,0.726,0.71,0.677,0.688,0.688,0.71,0.71,0.71,0.71,0.692,0.692,0.688,0.608,0.6,0.623,0.535,0.556,0.545,0.592,0.592,0.6,0.556,0.556,0.535,0.556,0.565,0.545,0.583,0.512,0.488,0.545,0.592,0.692,0.661,0.608,0.636,0.623,0.574,0.63,0.667,0.718,0.667,0.667,0.623,0.661,0.636,0.608,0.608,0.535,0.417,0.465,0.455,0.455,0.545,0.545,0.5,0.5,0.545,0.476,0.476,0.435,0.535,0.435,0.357,0.435,0.444,0.512,0.488,0.512,0.63,0.677,0.688,0.545,0.444,0.444,0.444,0.444,0.392,0.435,0.408,0.357,0.333,0.312,0.303,0.217,0.235,0.2,0.227,0.227,0.19,0.182,0.303,0.435,0.512,0.512,0.408,0.312,0.377,0.408,0.444,0.392,0.476,0.392,0.154,0.312,0.27,0.244,0.488,0.488,0.565,0.565,0.583,0.583,0.583,0.583,0.583,0.583],\"type\":\"scatter\"},{\"customdata\":[[\"Q1 0:18\",-2.0],[\"Q1 0:39\",-2.0],[\"Q1 1:3\",-4.0],[\"Q1 1:18\",-2.0],[\"Q1 1:58\",-4.0],[\"Q1 2:3\",-4.0],[\"Q1 2:3\",-4.0],[\"Q1 2:11\",-5.0],[\"Q1 2:33\",-1.0],[\"Q1 3:7\",0.0],[\"Q1 3:28\",0.0],[\"Q1 3:45\",-2.0],[\"Q1 3:56\",-2.0],[\"Q1 4:10\",-3.0],[\"Q1 4:38\",0.0],[\"Q1 4:56\",2.0],[\"Q1 4:56\",1.0],[\"Q1 4:56\",1.0],[\"Q1 5:24\",5.0],[\"Q1 5:56\",4.0],[\"Q1 6:9\",4.0],[\"Q1 6:47\",8.0],[\"Q1 7:4\",6.0],[\"Q1 7:13\",6.0],[\"Q1 7:48\",7.0],[\"Q1 8:16\",4.0],[\"Q1 8:16\",5.0],[\"Q1 8:30\",6.0],[\"Q1 8:48\",6.0],[\"Q1 8:48\",7.0],[\"Q1 9:15\",10.0],[\"Q1 9:15\",9.0],[\"Q1 9:15\",9.0],[\"Q1 9:15\",9.0],[\"Q1 9:16\",9.0],[\"Q1 9:37\",12.0],[\"Q1 10:16\",10.0],[\"Q1 10:48\",9.0],[\"Q1 11:3\",9.0],[\"Q1 11:11\",9.0],[\"Q1 11:31\",7.0],[\"Q2 0:0\",7.0],[\"Q2 0:0\",7.0],[\"Q2 0:16\",10.0],[\"Q2 0:54\",7.0],[\"Q2 1:13\",9.0],[\"Q2 1:39\",12.0],[\"Q2 2:3\",15.0],[\"Q2 2:3\",15.0],[\"Q2 2:3\",15.0],[\"Q2 2:3\",15.0],[\"Q2 2:45\",12.0],[\"Q2 2:50\",12.0],[\"Q2 3:24\",15.0],[\"Q2 3:54\",15.0],[\"Q2 4:3\",12.0],[\"Q2 4:28\",14.0],[\"Q2 5:1\",14.0],[\"Q2 5:1\",14.0],[\"Q2 5:16\",12.0],[\"Q2 5:43\",12.0],[\"Q2 6:18\",12.0],[\"Q2 6:52\",10.0],[\"Q2 6:48\",10.0],[\"Q2 7:3\",10.0],[\"Q2 7:26\",10.0],[\"Q2 7:31\",10.0],[\"Q2 7:53\",10.0],[\"Q2 8:5\",10.0],[\"Q2 8:13\",6.0],[\"Q2 8:50\",4.0],[\"Q2 9:21\",6.0],[\"Q2 9:52\",3.0],[\"Q2 10:16\",3.0],[\"Q2 10:35\",3.0],[\"Q2 11:6\",5.0],[\"Q2 11:29\",5.0],[\"Q2 11:29\",5.0],[\"Q2 11:33\",4.0],[\"Q2 11:50\",4.0],[\"Q2 11:50\",3.0],[\"Q3 0:0\",3.0],[\"Q3 0:0\",3.0],[\"Q3 0:0\",3.0],[\"Q3 0:37\",5.0],[\"Q3 1:7\",2.0],[\"Q3 1:18\",2.0],[\"Q3 1:26\",4.0],[\"Q3 1:45\",4.0],[\"Q3 2:16\",7.0],[\"Q3 2:20\",7.0],[\"Q3 3:6\",7.0],[\"Q3 3:33\",7.0],[\"Q3 3:45\",7.0],[\"Q3 4:15\",5.0],[\"Q3 4:40\",7.0],[\"Q3 5:0\",9.0],[\"Q3 5:0\",9.0],[\"Q3 5:21\",7.0],[\"Q3 5:36\",7.0],[\"Q3 5:48\",7.0],[\"Q3 5:52\",6.0],[\"Q3 6:4\",6.0],[\"Q3 6:28\",4.0],[\"Q3 6:26\",4.0],[\"Q3 7:10\",2.0],[\"Q3 7:23\",-1.0],[\"Q3 7:23\",-1.0],[\"Q3 7:23\",-1.0],[\"Q3 7:56\",-1.0],[\"Q3 8:33\",1.0],[\"Q3 8:45\",1.0],[\"Q3 8:45\",1.0],[\"Q3 8:48\",0.0],[\"Q3 9:20\",2.0],[\"Q3 9:20\",0.0],[\"Q3 9:36\",0.0],[\"Q3 10:7\",0.0],[\"Q3 10:20\",2.0],[\"Q3 10:45\",0.0],[\"Q3 11:28\",1.0],[\"Q3 11:42\",-1.0],[\"Q4 0:0\",1.0],[\"Q4 0:0\",1.0],[\"Q4 0:0\",1.0],[\"Q4 0:1\",1.0],[\"Q4 0:31\",4.0],[\"Q4 0:45\",4.0],[\"Q4 1:7\",2.0],[\"Q4 1:36\",2.0],[\"Q4 1:50\",0.0],[\"Q4 2:3\",0.0],[\"Q4 2:3\",-1.0],[\"Q4 2:35\",-1.0],[\"Q4 2:47\",-1.0],[\"Q4 3:0\",-1.0],[\"Q4 3:0\",0.0],[\"Q4 3:32\",-2.0],[\"Q4 3:53\",-2.0],[\"Q4 3:53\",-3.0],[\"Q4 4:0\",-4.0],[\"Q4 4:33\",-4.0],[\"Q4 4:33\",-5.0],[\"Q4 4:38\",-5.0],[\"Q4 4:42\",-5.0],[\"Q4 5:7\",-5.0],[\"Q4 5:12\",-5.0],[\"Q4 5:41\",-5.0],[\"Q4 6:0\",-3.0],[\"Q4 6:15\",0.0],[\"Q4 6:48\",0.0],[\"Q4 7:21\",0.0],[\"Q4 7:31\",0.0],[\"Q4 7:31\",-2.0],[\"Q4 7:56\",-2.0],[\"Q4 8:1\",-2.0],[\"Q4 8:1\",-1.0],[\"Q4 8:3\",-1.0],[\"Q4 8:20\",-1.0],[\"Q4 8:28\",-1.0],[\"Q4 9:11\",-6.0],[\"Q4 9:50\",-3.0],[\"Q4 10:15\",0.0],[\"Q4 10:16\",0.0],[\"Q4 10:16\",0.0],[\"Q4 10:30\",0.0],[\"Q4 10:30\",-1.0],[\"Q4 10:45\",1.0],[\"Q4 11:15\",1.0],[\"Q4 11:37\",1.0],[\"Q4 11:39\",1.0],[\"Q4 11:39\",2.0],[\"Q4 11:39\",3.0],[\"Q4 11:50\",3.0]],\"hoverlabel\":{\"bgcolor\":\"lightgray\"},\"hovertemplate\":\"Time: %{customdata[0]} <br>DET Implied Win Prob: %{y} <br>DET Lead: %{customdata[1]} <extra></extra>\",\"marker\":{\"cmid\":0,\"color\":[-2.0,-2.0,-4.0,-2.0,-4.0,-4.0,-4.0,-5.0,-1.0,0.0,0.0,-2.0,-2.0,-3.0,0.0,2.0,1.0,1.0,5.0,4.0,4.0,8.0,6.0,6.0,7.0,4.0,5.0,6.0,6.0,7.0,10.0,9.0,9.0,9.0,9.0,12.0,10.0,9.0,9.0,9.0,7.0,7.0,7.0,10.0,7.0,9.0,12.0,15.0,15.0,15.0,15.0,12.0,12.0,15.0,15.0,12.0,14.0,14.0,14.0,12.0,12.0,12.0,10.0,10.0,10.0,10.0,10.0,10.0,10.0,6.0,4.0,6.0,3.0,3.0,3.0,5.0,5.0,5.0,4.0,4.0,3.0,3.0,3.0,3.0,5.0,2.0,2.0,4.0,4.0,7.0,7.0,7.0,7.0,7.0,5.0,7.0,9.0,9.0,7.0,7.0,7.0,6.0,6.0,4.0,4.0,2.0,-1.0,-1.0,-1.0,-1.0,1.0,1.0,1.0,0.0,2.0,0.0,0.0,0.0,2.0,0.0,1.0,-1.0,1.0,1.0,1.0,1.0,4.0,4.0,2.0,2.0,0.0,0.0,-1.0,-1.0,-1.0,-1.0,0.0,-2.0,-2.0,-3.0,-4.0,-4.0,-5.0,-5.0,-5.0,-5.0,-5.0,-5.0,-3.0,0.0,0.0,0.0,0.0,-2.0,-2.0,-2.0,-1.0,-1.0,-1.0,-1.0,-6.0,-3.0,0.0,0.0,0.0,0.0,-1.0,1.0,1.0,1.0,1.0,2.0,3.0,3.0],\"colorbar\":{\"title\":{\"text\":\"DET Lead\"}},\"colorscale\":[[0.0,\"rgb(103,0,31)\"],[0.1,\"rgb(178,24,43)\"],[0.2,\"rgb(214,96,77)\"],[0.3,\"rgb(244,165,130)\"],[0.4,\"rgb(253,219,199)\"],[0.5,\"rgb(247,247,247)\"],[0.6,\"rgb(209,229,240)\"],[0.7,\"rgb(146,197,222)\"],[0.8,\"rgb(67,147,195)\"],[0.9,\"rgb(33,102,172)\"],[1.0,\"rgb(5,48,97)\"]],\"line\":{\"width\":1},\"size\":4},\"mode\":\"markers\",\"x\":[0.3000000000000007,0.6666666666666661,1.0500000000000007,1.3166666666666664,1.9666666666666668,2.0500000000000007,2.0500000000000007,2.1833333333333336,2.5666666666666664,3.116666666666667,3.4833333333333325,3.75,3.9499999999999993,4.166666666666667,4.633333333333334,4.933333333333334,4.933333333333334,4.933333333333334,5.4,5.933333333333334,6.15,6.8,7.083333333333333,7.216666666666667,7.816666666666666,8.283333333333333,8.283333333333333,8.516666666666666,8.8,8.816666666666666,9.266666666666666,9.266666666666666,9.266666666666666,9.266666666666666,9.283333333333333,9.633333333333333,10.283333333333333,10.816666666666666,11.05,11.183333333333334,11.516666666666667,12.0,12.0,12.283333333333333,12.916666666666666,13.233333333333333,13.65,14.05,14.05,14.05,14.05,14.75,14.833333333333334,15.4,15.9,16.05,16.46666666666667,17.03333333333333,17.03333333333333,17.28333333333333,17.71666666666667,18.3,18.866666666666667,18.816666666666666,19.066666666666666,19.45,19.53333333333333,19.9,20.083333333333336,20.21666666666667,20.833333333333336,21.35,21.866666666666667,22.28333333333333,22.583333333333336,23.1,23.483333333333334,23.483333333333334,23.55,23.833333333333336,23.833333333333336,24.0,24.0,24.016666666666666,24.616666666666667,25.133333333333333,25.316666666666666,25.433333333333334,25.766666666666666,26.28333333333333,26.333333333333336,27.1,27.566666666666666,27.75,28.25,28.666666666666668,29.016666666666666,29.016666666666666,29.35,29.6,29.8,29.883333333333333,30.083333333333332,30.46666666666667,30.45,31.166666666666668,31.4,31.4,31.4,31.933333333333334,32.56666666666666,32.766666666666666,32.766666666666666,32.81666666666666,33.333333333333336,33.333333333333336,33.6,34.13333333333333,34.333333333333336,34.766666666666666,35.46666666666667,35.7,36.0,36.0,36.0,36.03333333333333,36.53333333333333,36.75,37.11666666666667,37.6,37.833333333333336,38.06666666666666,38.06666666666666,38.583333333333336,38.8,39.0,39.0,39.55,39.9,39.9,40.016666666666666,40.56666666666666,40.56666666666666,40.65,40.7,41.13333333333333,41.2,41.68333333333334,42.016666666666666,42.25,42.81666666666666,43.35,43.53333333333333,43.53333333333333,43.93333333333334,44.03333333333333,44.03333333333333,44.06666666666666,44.333333333333336,44.46666666666667,45.18333333333334,45.833333333333336,46.25,46.28333333333333,46.28333333333333,46.5,46.5,46.75,47.25,47.63333333333333,47.666666666666664,47.666666666666664,47.666666666666664,47.833333333333336],\"y\":[0.455,0.435,0.417,0.435,0.408,0.408,0.4,0.408,0.476,0.5,0.5,0.476,0.476,0.465,0.476,0.476,0.488,0.476,0.524,0.535,0.545,0.556,0.574,0.574,0.574,0.524,0.524,0.565,0.583,0.583,0.615,0.63,0.615,0.6,0.6,0.649,0.63,0.661,0.615,0.615,0.6,0.6,0.608,0.636,0.608,0.623,0.692,0.75,0.778,0.767,0.759,0.667,0.667,0.744,0.75,0.692,0.71,0.726,0.71,0.677,0.688,0.688,0.71,0.71,0.71,0.71,0.692,0.692,0.688,0.608,0.6,0.623,0.535,0.556,0.545,0.592,0.592,0.6,0.556,0.556,0.535,0.556,0.565,0.545,0.583,0.512,0.488,0.545,0.592,0.692,0.661,0.608,0.636,0.623,0.574,0.63,0.667,0.718,0.667,0.667,0.623,0.661,0.636,0.608,0.608,0.535,0.417,0.465,0.455,0.455,0.545,0.545,0.5,0.5,0.545,0.476,0.476,0.435,0.535,0.435,0.357,0.435,0.444,0.512,0.488,0.512,0.63,0.677,0.688,0.545,0.444,0.444,0.444,0.444,0.392,0.435,0.408,0.357,0.333,0.312,0.303,0.217,0.235,0.2,0.227,0.227,0.19,0.182,0.303,0.435,0.512,0.512,0.408,0.312,0.377,0.408,0.444,0.392,0.476,0.392,0.154,0.312,0.27,0.244,0.488,0.488,0.565,0.565,0.583,0.583,0.583,0.583,0.583,0.583],\"type\":\"scatter\"}],                        {\"template\":{\"data\":{\"bar\":[{\"error_x\":{\"color\":\"#2a3f5f\"},\"error_y\":{\"color\":\"#2a3f5f\"},\"marker\":{\"line\":{\"color\":\"#E5ECF6\",\"width\":0.5},\"pattern\":{\"fillmode\":\"overlay\",\"size\":10,\"solidity\":0.2}},\"type\":\"bar\"}],\"barpolar\":[{\"marker\":{\"line\":{\"color\":\"#E5ECF6\",\"width\":0.5},\"pattern\":{\"fillmode\":\"overlay\",\"size\":10,\"solidity\":0.2}},\"type\":\"barpolar\"}],\"carpet\":[{\"aaxis\":{\"endlinecolor\":\"#2a3f5f\",\"gridcolor\":\"white\",\"linecolor\":\"white\",\"minorgridcolor\":\"white\",\"startlinecolor\":\"#2a3f5f\"},\"baxis\":{\"endlinecolor\":\"#2a3f5f\",\"gridcolor\":\"white\",\"linecolor\":\"white\",\"minorgridcolor\":\"white\",\"startlinecolor\":\"#2a3f5f\"},\"type\":\"carpet\"}],\"choropleth\":[{\"colorbar\":{\"outlinewidth\":0,\"ticks\":\"\"},\"type\":\"choropleth\"}],\"contour\":[{\"colorbar\":{\"outlinewidth\":0,\"ticks\":\"\"},\"colorscale\":[[0.0,\"#0d0887\"],[0.1111111111111111,\"#46039f\"],[0.2222222222222222,\"#7201a8\"],[0.3333333333333333,\"#9c179e\"],[0.4444444444444444,\"#bd3786\"],[0.5555555555555556,\"#d8576b\"],[0.6666666666666666,\"#ed7953\"],[0.7777777777777778,\"#fb9f3a\"],[0.8888888888888888,\"#fdca26\"],[1.0,\"#f0f921\"]],\"type\":\"contour\"}],\"contourcarpet\":[{\"colorbar\":{\"outlinewidth\":0,\"ticks\":\"\"},\"type\":\"contourcarpet\"}],\"heatmap\":[{\"colorbar\":{\"outlinewidth\":0,\"ticks\":\"\"},\"colorscale\":[[0.0,\"#0d0887\"],[0.1111111111111111,\"#46039f\"],[0.2222222222222222,\"#7201a8\"],[0.3333333333333333,\"#9c179e\"],[0.4444444444444444,\"#bd3786\"],[0.5555555555555556,\"#d8576b\"],[0.6666666666666666,\"#ed7953\"],[0.7777777777777778,\"#fb9f3a\"],[0.8888888888888888,\"#fdca26\"],[1.0,\"#f0f921\"]],\"type\":\"heatmap\"}],\"heatmapgl\":[{\"colorbar\":{\"outlinewidth\":0,\"ticks\":\"\"},\"colorscale\":[[0.0,\"#0d0887\"],[0.1111111111111111,\"#46039f\"],[0.2222222222222222,\"#7201a8\"],[0.3333333333333333,\"#9c179e\"],[0.4444444444444444,\"#bd3786\"],[0.5555555555555556,\"#d8576b\"],[0.6666666666666666,\"#ed7953\"],[0.7777777777777778,\"#fb9f3a\"],[0.8888888888888888,\"#fdca26\"],[1.0,\"#f0f921\"]],\"type\":\"heatmapgl\"}],\"histogram\":[{\"marker\":{\"pattern\":{\"fillmode\":\"overlay\",\"size\":10,\"solidity\":0.2}},\"type\":\"histogram\"}],\"histogram2d\":[{\"colorbar\":{\"outlinewidth\":0,\"ticks\":\"\"},\"colorscale\":[[0.0,\"#0d0887\"],[0.1111111111111111,\"#46039f\"],[0.2222222222222222,\"#7201a8\"],[0.3333333333333333,\"#9c179e\"],[0.4444444444444444,\"#bd3786\"],[0.5555555555555556,\"#d8576b\"],[0.6666666666666666,\"#ed7953\"],[0.7777777777777778,\"#fb9f3a\"],[0.8888888888888888,\"#fdca26\"],[1.0,\"#f0f921\"]],\"type\":\"histogram2d\"}],\"histogram2dcontour\":[{\"colorbar\":{\"outlinewidth\":0,\"ticks\":\"\"},\"colorscale\":[[0.0,\"#0d0887\"],[0.1111111111111111,\"#46039f\"],[0.2222222222222222,\"#7201a8\"],[0.3333333333333333,\"#9c179e\"],[0.4444444444444444,\"#bd3786\"],[0.5555555555555556,\"#d8576b\"],[0.6666666666666666,\"#ed7953\"],[0.7777777777777778,\"#fb9f3a\"],[0.8888888888888888,\"#fdca26\"],[1.0,\"#f0f921\"]],\"type\":\"histogram2dcontour\"}],\"mesh3d\":[{\"colorbar\":{\"outlinewidth\":0,\"ticks\":\"\"},\"type\":\"mesh3d\"}],\"parcoords\":[{\"line\":{\"colorbar\":{\"outlinewidth\":0,\"ticks\":\"\"}},\"type\":\"parcoords\"}],\"pie\":[{\"automargin\":true,\"type\":\"pie\"}],\"scatter\":[{\"marker\":{\"colorbar\":{\"outlinewidth\":0,\"ticks\":\"\"}},\"type\":\"scatter\"}],\"scatter3d\":[{\"line\":{\"colorbar\":{\"outlinewidth\":0,\"ticks\":\"\"}},\"marker\":{\"colorbar\":{\"outlinewidth\":0,\"ticks\":\"\"}},\"type\":\"scatter3d\"}],\"scattercarpet\":[{\"marker\":{\"colorbar\":{\"outlinewidth\":0,\"ticks\":\"\"}},\"type\":\"scattercarpet\"}],\"scattergeo\":[{\"marker\":{\"colorbar\":{\"outlinewidth\":0,\"ticks\":\"\"}},\"type\":\"scattergeo\"}],\"scattergl\":[{\"marker\":{\"colorbar\":{\"outlinewidth\":0,\"ticks\":\"\"}},\"type\":\"scattergl\"}],\"scattermapbox\":[{\"marker\":{\"colorbar\":{\"outlinewidth\":0,\"ticks\":\"\"}},\"type\":\"scattermapbox\"}],\"scatterpolar\":[{\"marker\":{\"colorbar\":{\"outlinewidth\":0,\"ticks\":\"\"}},\"type\":\"scatterpolar\"}],\"scatterpolargl\":[{\"marker\":{\"colorbar\":{\"outlinewidth\":0,\"ticks\":\"\"}},\"type\":\"scatterpolargl\"}],\"scatterternary\":[{\"marker\":{\"colorbar\":{\"outlinewidth\":0,\"ticks\":\"\"}},\"type\":\"scatterternary\"}],\"surface\":[{\"colorbar\":{\"outlinewidth\":0,\"ticks\":\"\"},\"colorscale\":[[0.0,\"#0d0887\"],[0.1111111111111111,\"#46039f\"],[0.2222222222222222,\"#7201a8\"],[0.3333333333333333,\"#9c179e\"],[0.4444444444444444,\"#bd3786\"],[0.5555555555555556,\"#d8576b\"],[0.6666666666666666,\"#ed7953\"],[0.7777777777777778,\"#fb9f3a\"],[0.8888888888888888,\"#fdca26\"],[1.0,\"#f0f921\"]],\"type\":\"surface\"}],\"table\":[{\"cells\":{\"fill\":{\"color\":\"#EBF0F8\"},\"line\":{\"color\":\"white\"}},\"header\":{\"fill\":{\"color\":\"#C8D4E3\"},\"line\":{\"color\":\"white\"}},\"type\":\"table\"}]},\"layout\":{\"annotationdefaults\":{\"arrowcolor\":\"#2a3f5f\",\"arrowhead\":0,\"arrowwidth\":1},\"autotypenumbers\":\"strict\",\"coloraxis\":{\"colorbar\":{\"outlinewidth\":0,\"ticks\":\"\"}},\"colorscale\":{\"diverging\":[[0,\"#8e0152\"],[0.1,\"#c51b7d\"],[0.2,\"#de77ae\"],[0.3,\"#f1b6da\"],[0.4,\"#fde0ef\"],[0.5,\"#f7f7f7\"],[0.6,\"#e6f5d0\"],[0.7,\"#b8e186\"],[0.8,\"#7fbc41\"],[0.9,\"#4d9221\"],[1,\"#276419\"]],\"sequential\":[[0.0,\"#0d0887\"],[0.1111111111111111,\"#46039f\"],[0.2222222222222222,\"#7201a8\"],[0.3333333333333333,\"#9c179e\"],[0.4444444444444444,\"#bd3786\"],[0.5555555555555556,\"#d8576b\"],[0.6666666666666666,\"#ed7953\"],[0.7777777777777778,\"#fb9f3a\"],[0.8888888888888888,\"#fdca26\"],[1.0,\"#f0f921\"]],\"sequentialminus\":[[0.0,\"#0d0887\"],[0.1111111111111111,\"#46039f\"],[0.2222222222222222,\"#7201a8\"],[0.3333333333333333,\"#9c179e\"],[0.4444444444444444,\"#bd3786\"],[0.5555555555555556,\"#d8576b\"],[0.6666666666666666,\"#ed7953\"],[0.7777777777777778,\"#fb9f3a\"],[0.8888888888888888,\"#fdca26\"],[1.0,\"#f0f921\"]]},\"colorway\":[\"#636efa\",\"#EF553B\",\"#00cc96\",\"#ab63fa\",\"#FFA15A\",\"#19d3f3\",\"#FF6692\",\"#B6E880\",\"#FF97FF\",\"#FECB52\"],\"font\":{\"color\":\"#2a3f5f\"},\"geo\":{\"bgcolor\":\"white\",\"lakecolor\":\"white\",\"landcolor\":\"#E5ECF6\",\"showlakes\":true,\"showland\":true,\"subunitcolor\":\"white\"},\"hoverlabel\":{\"align\":\"left\"},\"hovermode\":\"closest\",\"mapbox\":{\"style\":\"light\"},\"paper_bgcolor\":\"white\",\"plot_bgcolor\":\"#E5ECF6\",\"polar\":{\"angularaxis\":{\"gridcolor\":\"white\",\"linecolor\":\"white\",\"ticks\":\"\"},\"bgcolor\":\"#E5ECF6\",\"radialaxis\":{\"gridcolor\":\"white\",\"linecolor\":\"white\",\"ticks\":\"\"}},\"scene\":{\"xaxis\":{\"backgroundcolor\":\"#E5ECF6\",\"gridcolor\":\"white\",\"gridwidth\":2,\"linecolor\":\"white\",\"showbackground\":true,\"ticks\":\"\",\"zerolinecolor\":\"white\"},\"yaxis\":{\"backgroundcolor\":\"#E5ECF6\",\"gridcolor\":\"white\",\"gridwidth\":2,\"linecolor\":\"white\",\"showbackground\":true,\"ticks\":\"\",\"zerolinecolor\":\"white\"},\"zaxis\":{\"backgroundcolor\":\"#E5ECF6\",\"gridcolor\":\"white\",\"gridwidth\":2,\"linecolor\":\"white\",\"showbackground\":true,\"ticks\":\"\",\"zerolinecolor\":\"white\"}},\"shapedefaults\":{\"line\":{\"color\":\"#2a3f5f\"}},\"ternary\":{\"aaxis\":{\"gridcolor\":\"white\",\"linecolor\":\"white\",\"ticks\":\"\"},\"baxis\":{\"gridcolor\":\"white\",\"linecolor\":\"white\",\"ticks\":\"\"},\"bgcolor\":\"#E5ECF6\",\"caxis\":{\"gridcolor\":\"white\",\"linecolor\":\"white\",\"ticks\":\"\"}},\"title\":{\"x\":0.05},\"xaxis\":{\"automargin\":true,\"gridcolor\":\"white\",\"linecolor\":\"white\",\"ticks\":\"\",\"title\":{\"standoff\":15},\"zerolinecolor\":\"white\",\"zerolinewidth\":2},\"yaxis\":{\"automargin\":true,\"gridcolor\":\"white\",\"linecolor\":\"white\",\"ticks\":\"\",\"title\":{\"standoff\":15},\"zerolinecolor\":\"white\",\"zerolinewidth\":2}}},\"title\":{\"text\":\"DET In Game Win Probability - IND @ DET (2022-03-04)\"},\"xaxis\":{\"tickmode\":\"linear\",\"tick0\":0,\"dtick\":12,\"title\":{\"text\":\"Time\"},\"range\":[-3,51]},\"yaxis\":{\"tickmode\":\"linear\",\"tick0\":0,\"dtick\":0.1,\"title\":{\"text\":\"DET Win Prob.\"},\"range\":[-0.05,1.05]},\"shapes\":[{\"line\":{\"color\":\"gray\",\"dash\":\"dash\",\"width\":0.75},\"type\":\"line\",\"x0\":-1000,\"x1\":1000,\"y0\":0.5,\"y1\":0.5}],\"width\":1000,\"height\":600,\"showlegend\":false},                        {\"responsive\": true}                    ).then(function(){\n",
       "                            \n",
       "var gd = document.getElementById('658b921b-5116-4289-a336-7b9cafbf96de');\n",
       "var x = new MutationObserver(function (mutations, observer) {{\n",
       "        var display = window.getComputedStyle(gd).display;\n",
       "        if (!display || display === 'none') {{\n",
       "            console.log([gd, 'removed!']);\n",
       "            Plotly.purge(gd);\n",
       "            observer.disconnect();\n",
       "        }}\n",
       "}});\n",
       "\n",
       "// Listen for the removal of the full notebook cells\n",
       "var notebookContainer = gd.closest('#notebook-container');\n",
       "if (notebookContainer) {{\n",
       "    x.observe(notebookContainer, {childList: true});\n",
       "}}\n",
       "\n",
       "// Listen for the clearing of the current output cell\n",
       "var outputEl = gd.closest('.output');\n",
       "if (outputEl) {{\n",
       "    x.observe(outputEl, {childList: true});\n",
       "}}\n",
       "\n",
       "                        })                };                });            </script>        </div>"
      ]
     },
     "metadata": {},
     "output_type": "display_data"
    }
   ],
   "source": [
    "# Figure\n",
    "fig = go.Figure()\n",
    "\n",
    "# Model\n",
    "model_line = go.Scatter(\n",
    "    x=game_sbs['time'],\n",
    "    y=winner_probs,\n",
    "    mode='lines',\n",
    "    line_color='cornflowerblue'\n",
    ")\n",
    "model_scatter = go.Scatter(\n",
    "    x=game_sbs['time'],\n",
    "    y=winner_probs,\n",
    "    mode='markers',\n",
    "    marker={'size': 4, 'line_width': 1, 'opacity': 1, 'color': winner_lead, 'colorscale':'RdBu', 'cmid': 0},\n",
    "    customdata=np.dstack((game_sbs['formatted_time'], winner_lead))[0],\n",
    "    hovertemplate='Time: %{customdata[0]} <br>' + winner + ' Modeled Win Prob: %{y} <br>' + winner + ' Lead: %{customdata[1]} <extra></extra>',\n",
    "    hoverlabel={'bgcolor': 'cornflowerblue'}\n",
    ")\n",
    "fig.add_trace(model_line)\n",
    "fig.add_trace(model_scatter)\n",
    "\n",
    "# Implied\n",
    "implied_line = go.Scatter(\n",
    "    x=game_lines['time'],\n",
    "    y=game_lines['winner_implied_prob'],\n",
    "    mode='lines',\n",
    "    line_color='gray'\n",
    ")\n",
    "implied_scatter = go.Scatter(\n",
    "    x=game_lines['time'],\n",
    "    y=game_lines['winner_implied_prob'],\n",
    "    mode='markers',\n",
    "    marker={'size': 4, 'line_width': 1, 'color': game_lines['winner_lead'], 'colorscale':'RdBu', 'cmid': 0, 'colorbar_title': f\"{winner} Lead\"},\n",
    "    customdata=np.dstack((game_lines['formatted_time'], game_lines['winner_lead']))[0],\n",
    "    hovertemplate='Time: %{customdata[0]} <br>' + winner + ' Implied Win Prob: %{y} <br>' + winner + ' Lead: %{customdata[1]} <extra></extra>',\n",
    "    hoverlabel={'bgcolor': 'lightgray'}\n",
    ")\n",
    "fig.add_trace(implied_line)\n",
    "fig.add_trace(implied_scatter)\n",
    "\n",
    "# Figure\n",
    "fig.update_layout(title=f\"{winner} In Game Win Probability - {vis} @ {home} ({game_date})\",)\n",
    "fig.update_layout(xaxis = {'tickmode': 'linear', 'tick0': 0, 'dtick': 12})\n",
    "fig.update_layout(yaxis = {'tickmode': 'linear', 'tick0': 0, 'dtick': .1})\n",
    "fig.update_xaxes(title_text=\"Time\", range=(-3, 51))\n",
    "fig.update_yaxes(title_text=f\"{winner} Win Prob.\", range=(-.05, 1.05))\n",
    "fig.add_shape(type='line', x0=-1000, x1=1000, y0=0.5, y1=0.5, line_color='gray', line_dash='dash', line_width=0.75)\n",
    "fig.update_layout(width=1000, height=600)\n",
    "fig.update_layout(showlegend=False)\n",
    "fig.show()\n",
    "\n"
   ]
  }
 ],
 "metadata": {
  "kernelspec": {
   "display_name": "Python 3 (ipykernel)",
   "language": "python",
   "name": "python3"
  },
  "language_info": {
   "codemirror_mode": {
    "name": "ipython",
    "version": 3
   },
   "file_extension": ".py",
   "mimetype": "text/x-python",
   "name": "python",
   "nbconvert_exporter": "python",
   "pygments_lexer": "ipython3",
   "version": "3.9.7"
  }
 },
 "nbformat": 4,
 "nbformat_minor": 5
}
